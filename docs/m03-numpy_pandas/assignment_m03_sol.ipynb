{
 "cells": [
  {
   "cell_type": "markdown",
   "metadata": {
    "id": "9p-FFN_yNDlH"
   },
   "source": [
    "# Homework 2: Exploring Solar System Bodies (Pandas introduction)\n",
    "Welcome to Assignment 12!\n",
    "\n",
    "In this assignment, we will analyze data about celestial bodies in the solar system using Python, NumPy, and Pandas. The goals of this assignment are to:\n",
    "\n",
    " - Open a simple dataset formatted as JSON using pandas.\n",
    " - Apply simple statistical analysis to real-world data.\n",
    " - Refine Python programming skills through hands-on practice.\n",
    " - Ensure you can run Python and Python notebook environments (e.g., Jupyter Notebook, JupyterLab, Collab, VSCode) and troubleshoot any setup issues.\n",
    "\n",
    "A key part of this homework is verifying that you can successfully run Python notebooks. If you encounter any difficulties, seek help from the instructor or AIs. Additionally, use Slack to ask questions or share insights. If you see a classmate struggling, helping them out will be great for a collaborative learning environment (and may count extra points in engagement 😀)."
   ]
  },
  {
   "cell_type": "code",
   "execution_count": null,
   "metadata": {
    "id": "2z4vxHkNOKvz"
   },
   "outputs": [],
   "source": [
    "# if you are running this notebook in your local machine,\n",
    "# make sure you have all the dependencies installed\n",
    "# uncomment the following lines to install the dependencies\n",
    "# This may be needed if you are running this notebook in online\n",
    "# environments such as Google Colab\n",
    "#\n",
    "# !pip install numpy pandas\n",
    "#\n",
    "# also copy the data file to the same directory as this notebook\n",
    "# and update the paths accordingly"
   ]
  },
  {
   "cell_type": "markdown",
   "metadata": {},
   "source": [
    "### Instructions\n",
    "\n",
    "1. Follow the instructions on how to setup your Python and Jupyter (or VSCode) environment and cloning or downloading our repository. Instructions can be found in the class notes.\n",
    "2. Ensure that you have Python, Jupyter Notebook, and the necessary libraries installed (`NumPy` and `Pandas`).\n",
    "3. Load the dataset `Datasets/sol_data.json` into a Pandas DataFrame.\n",
    "4. Answer the questions below by writing Python code.\n",
    "5. No plots or visualizations are required—your insights should come from code-based analysis and outputs.\n",
    "\n",
    "### Dataset Overview\n",
    "The dataset contains information about celestial objects, including:\n",
    "- **isPlanet**: Indicates whether the object is a planet (`True` or `False`).\n",
    "- **isDwarfPlanet**: Indicates whether the object is a dwarf planet (`True` or `False`).\n",
    "- **orbit_type**: Classifies the object as \"Primary\" (planets) or \"Secondary\" (moons).\n",
    "- Physical and orbital properties, such as **mass**, **density**, **meanRadius**, **gravity**, **sideralOrbit**, and more.\n",
    "\n",
    "\n",
    "### Submission Guidelines\n",
    "\n",
    "- Submit your completed notebook as a HTML export, or a PDF file.\n",
    "\n",
    "To export to HTML, if you are on Jupyter, select `File` > `Export Notebook As` > `HTML`.\n",
    "\n",
    "If you are on VSCode, you can use the `Jupyter: Export to HTML` command.\n",
    " - Open the command palette (Ctrl+Shift+P or Cmd+Shift+P on Mac).\n",
    "    - Search for `Jupyter: Export to HTML`.\n",
    "    - Save the HTML file to your computer and submit it via Canvas.\n",
    "\n",
    "---\n",
    "\n",
    "> **Hint:** If you are learning pandas, check out our tutorials or the official documentation:\n",
    "> - [Pandas Getting started](https://pandas.pydata.org/docs/getting_started/intro_tutorials/index.html)\n",
    "> - [Pandas DataFrame API Documentation](https://pandas.pydata.org/docs/reference/frame.html)\n",
    "> - [Our lecture on Pandas](https://filipinascimento.github.io/usable_ai/panda_basics)\n",
    "> \n",
    "> \n",
    "> **Using Generative AI Responsibly**\n",
    ">\n",
    "> You're welcome to use Generative AI to assist your learning, but focus on understanding the concepts rather than just solving the assignment. For example:\n",
    ">\n",
    "> - Instead of asking: `What's the code to count moons orbiting each planet?`\n",
    "> - Try asking: `How can I use Pandas to group and count values? Can you provide examples? Can you explain the steps?`\n",
    ">\n",
    "> This way, you will learn how the solution works while building your skills. Remember to give context to the generative AI, so it can better assist you. Talk to the instructor and AIs if you have any questions or need insights."
   ]
  },
  {
   "cell_type": "code",
   "execution_count": null,
   "metadata": {
    "id": "BabmrjoRNDlN"
   },
   "outputs": [],
   "source": [
    "import pandas as pd\n",
    "import numpy as np\n",
    "\n",
    "# Load the dataset\n",
    "data = pd.read_json('../../Datasets/sol_data.json')\n",
    "# The ../../ are needed to go back two levels in the directory structure.\n",
    "# Note that the path is relative to the location of the notebook file. Double check\n",
    "# if the path is correct based on your system\n",
    "data.head()"
   ]
  },
  {
   "cell_type": "markdown",
   "metadata": {},
   "source": [
    "### 1. General Information\n",
    "\n",
    "- How many objects are in the dataset?\n",
    "- How many are planets? How many are moons?\n"
   ]
  },
  {
   "cell_type": "code",
   "execution_count": null,
   "metadata": {
    "id": "nhy-_f8eNDlO",
    "inputHidden": false,
    "jupyter": {
     "outputs_hidden": false
    },
    "outputHidden": false
   },
   "outputs": [],
   "source": [
    "# Total number of objects\n",
    "# Fill in code to calculate total number of objects\n",
    "\n",
    "# Number of planets\n",
    "# Fill in code to calculate number of planets\n",
    "\n",
    "# Number of moons\n",
    "# Fill in code to calculate number of moons"
   ]
  },
  {
   "cell_type": "markdown",
   "metadata": {},
   "source": [
    "> **Hint**: By moon we mean a natural satellite of a planet or another object in the solar system. Take a look at the columns and see if you can identify the criteria for classifying an object as a moon. Ask the instructor or AIs for help if needed. "
   ]
  },
  {
   "cell_type": "markdown",
   "metadata": {},
   "source": [
    "### 2. Planets\n",
    "\n",
    "- What is the mean density of all planets?\n",
    "- Which planet has the highest surface gravity, and what is its gravity value?\n",
    "- List all planets in descending order of their mass.\n"
   ]
  },
  {
   "cell_type": "code",
   "execution_count": null,
   "metadata": {},
   "outputs": [],
   "source": [
    "\n",
    "# Mean density of all planets\n",
    "# Fill in code\n",
    "\n",
    "# Planet with the highest surface gravity\n",
    "# Fill in code\n",
    "\n",
    "# Planets by descending mass\n",
    "# Fill in code\n"
   ]
  },
  {
   "cell_type": "markdown",
   "metadata": {},
   "source": [
    "### 3. Moons (Satellites)\n",
    "- How many moons orbit each planet? Present this as a table or dictionary.\n",
    "- What is the average radius (meanRadius) of all moons?\n",
    "- Compare the average surface gravity of moons to that of planets.\n"
   ]
  },
  {
   "cell_type": "code",
   "execution_count": null,
   "metadata": {},
   "outputs": [],
   "source": [
    "# Number of moons orbiting each planet\n",
    "# Fill in code\n",
    "\n",
    "# Average radius of all moons\n",
    "# Fill in code\n",
    "\n",
    "# Compare average surface gravity of moons vs. planets\n",
    "# Fill in code\n"
   ]
  },
  {
   "cell_type": "markdown",
   "metadata": {},
   "source": [
    "### 4. Orbital Properties\n",
    "\n",
    "- Which object has the highest orbital eccentricity, and what is its value?\n",
    "- Calculate the average semi-major axis (semimajorAxis) for planets and compare it to that of moons.\n",
    "- Identify the moon with the shortest orbital period (sideralOrbit) and the planet it orbits.\n"
   ]
  },
  {
   "cell_type": "code",
   "execution_count": null,
   "metadata": {},
   "outputs": [],
   "source": [
    "# Highest orbital eccentricity\n",
    "# Fill in code\n",
    "\n",
    "# Average semi-major axis of planets vs. moons\n",
    "# Fill in code\n",
    "\n",
    "# Moon with the shortest orbital period\n",
    "# Fill in code"
   ]
  },
  {
   "cell_type": "markdown",
   "metadata": {},
   "source": [
    "### 5. Discovery Dates\n",
    "\n",
    "- How many objects have recorded discovery dates?\n",
    "- Which is the oldest discovered moon (except ours) for which we have recorded discovery dates, and when was it discovered?\n",
    "\n",
    "> Look at the format of dates in the dataset. You will find NA values for objects without recorded discovery dates. Also some dates are just a year, while others are more precise. Complete dates are formatted as `DD/MM/YYYY` (e.g, 12/04/1997), while years are formatted as `YYYY`, e.g., `1997`. Finally some dates may have `??` in place of day or months, which should be cleaned up. For instance by converting `??/??/1997` to `01/01/1997` or `??/04/1997` to `01/04/1997`. \n",
    "\n",
    "> **Hint**: Pandas `.to_datetime()` does not support dates before 1600. I recommend to create a function to clean the dates and use the `.apply()` to run. For example, first ignore NA values, then convert the valid complete dates while handling the years by padding them to a full date format if needed (like Jan 1st). Alternatively, you can use pd.period."
   ]
  },
  {
   "cell_type": "code",
   "execution_count": null,
   "metadata": {},
   "outputs": [],
   "source": [
    "# Example of how to parse and clean the strings for the assignment\n",
    "def preprocess_dates(date_string):\n",
    "    # conver to YYYY-MM-DD\n",
    "    if pd.isna(date_string):\n",
    "        return pd.NA\n",
    "    \n",
    "    # replace ?? by 01\n",
    "    date_string = date_string.replace('??', '01')\n",
    "\n",
    "    # add 01/01 if only year is provided\n",
    "    if len(date_string) == 4:\n",
    "        date_string = '01/01/' + date_string\n",
    "    \n",
    "    # transform to YYYY-MM-DD\n",
    "    date_splitted = date_string.split('/')\n",
    "\n",
    "    # but only if the string has 3 parts (day, month, year)\n",
    "    if len(date_splitted) == 3:\n",
    "        day = date_splitted[0]\n",
    "        month = date_splitted[1]\n",
    "        year = date_splitted[2]\n",
    "        return f\"{year}-{month}-{day}\"\n",
    "        # or using pandas Period (pd.Period)\n",
    "        # return pd.Period(year=int(year), month=int(month), day=int(day), freq=\"D\")\n",
    "    else:\n",
    "        return pd.NA\n",
    "\n",
    "data['parsedDiscoveryDate'] = data['discoveryDate'].apply(preprocess_dates)"
   ]
  },
  {
   "cell_type": "code",
   "execution_count": null,
   "metadata": {},
   "outputs": [],
   "source": [
    "# Objects with discovery dates\n",
    "# Fill in code\n",
    "\n",
    "# Oldest discovered moon\n",
    "# Fill in code"
   ]
  },
  {
   "cell_type": "markdown",
   "metadata": {},
   "source": [
    "### 6. Advanced Analysis\n",
    "\n",
    "- Calculate the average density of moons that orbit planets with a mass greater than Earth's mass (`5.97e24 kg`).\n",
    "- Group all objects by their `orbit_type` and compute the average orbital eccentricity for each group.\n",
    "- Identify the top 3 moons with the highest escape velocity (escape).\n"
   ]
  },
  {
   "cell_type": "code",
   "execution_count": null,
   "metadata": {},
   "outputs": [],
   "source": [
    "# Average density of moons orbiting planets with mass > Earth\n",
    "# Fill in code\n",
    "\n",
    "# Average orbital eccentricity by orbit_type\n",
    "# Fill in code\n",
    "\n",
    "# Top 3 moons with highest escape velocity\n",
    "# Fill in code"
   ]
  },
  {
   "cell_type": "markdown",
   "metadata": {},
   "source": [
    "### 7. Extra questions\n",
    "\n",
    "1. How many moons have a mass less than 10% of Earth's moon? What percentage of all moons does this represent?\n",
    "2. Calculate the ratio of moons to planets in the dataset. Which planet has the highest number of moons relative to its mass?\n",
    "3. Group moons by their host planet and calculate the average density for each group. Which planet hosts moons with the highest average density?"
   ]
  },
  {
   "cell_type": "code",
   "execution_count": null,
   "metadata": {},
   "outputs": [],
   "source": [
    "# Moons with a mass less than Earth's moon and percentage\n",
    "# Fill in code\n",
    "\n",
    "# Ratio of moons to planets and planet with highest moon to mass ratio\n",
    "# Fill in code\n",
    "\n",
    "# Average density of moons per planet\n",
    "# Fill in code\n"
   ]
  }
 ],
 "metadata": {
  "anaconda-cloud": {},
  "colab": {
   "provenance": [
    {
     "file_id": "https://github.com/yy/dviz-course/blob/master/m01-intro/lab01.ipynb",
     "timestamp": 1683497199468
    }
   ]
  },
  "kernel_info": {
   "name": "dviz"
  },
  "kernelspec": {
   "display_name": "usableai",
   "language": "python",
   "name": "python3"
  },
  "language_info": {
   "codemirror_mode": {
    "name": "ipython",
    "version": 3
   },
   "file_extension": ".py",
   "mimetype": "text/x-python",
   "name": "python",
   "nbconvert_exporter": "python",
   "pygments_lexer": "ipython3",
   "version": "3.11.11"
  },
  "nteract": {
   "version": "0.14.5"
  }
 },
 "nbformat": 4,
 "nbformat_minor": 0
}
