{
 "cells": [
  {
   "cell_type": "markdown",
   "metadata": {},
   "source": [
    "# NumPy Tutorial\n",
    "This tutorial provides a detailed introduction to NumPy, one of the most widely used libraries for numerical computing in Python. By the end, you should have a good grasp on essential NumPy operations, including **array creation**, **reshaping**, **indexing**, **fancy indexing**, **boolean masking**, **broadcasting**, and **random utilities**.\n",
    "\n",
    "Throughout, we’ve added extra explanations and short **practice questions** to help you test your knowledge. The questions require code-based solutions, so simply uncomment and fill them in as you go.\n"
   ]
  },
  {
   "cell_type": "markdown",
   "metadata": {},
   "source": [
    " ## 1. Installation and Import\n",
    "\n",
    " NumPy doesn't come bundled with Python, so you need to install it (unless you’re using a distribution like Anaconda, which comes with NumPy pre-installed). If you set up your Python environment with our previous tutorial, you should already have NumPy installed.\n",
    "\n",
    "**1.1 Install NumPy** (if you haven’t already):\n",
    "\n",
    " ```bash\n",
    "\n",
    " pip install numpy\n",
    "\n",
    " ```\n",
    "\n",
    " This downloads and installs the NumPy package from the Python Package Index (PyPI).\n",
    "\n",
    " **1.2 Import NumPy**:\n",
    " \n",
    " The `as np` alias is a common convention that makes it easier to reference NumPy throughout your code."
   ]
  },
  {
   "cell_type": "code",
   "execution_count": 1,
   "metadata": {},
   "outputs": [],
   "source": [
    "# Install numpy using pip (ONLY IF NEEDED)\n",
    "#!pip install numpy\n"
   ]
  },
  {
   "cell_type": "code",
   "execution_count": 1,
   "metadata": {},
   "outputs": [],
   "source": [
    "# Importing NumPy\n",
    "import numpy as np\n"
   ]
  },
  {
   "cell_type": "markdown",
   "metadata": {},
   "source": [
    " **Why NumPy?**\n",
    "\n",
    " - **Efficiency**: NumPy arrays are more memory-efficient than Python lists for large-scale data.\n",
    " - **Vectorization**: Mathematical operations on arrays are optimized in C, making them very fast.\n",
    " - **Broad Ecosystem**: NumPy underpins many other libraries (Pandas, SciPy, TensorFlow, etc.)."
   ]
  },
  {
   "cell_type": "markdown",
   "metadata": {},
   "source": [
    "## 2. Creating Arrays\n",
    "NumPy arrays (`ndarray` objects) are the core data structure for fast numerical computations in Python. They are more efficient than standard Python lists, especially for operations on large datasets.\n",
    "\n",
    "### 2.1 From Python Lists\n",
    "You can create a NumPy array simply by passing a Python list to `np.array()`:"
   ]
  },
  {
   "cell_type": "code",
   "execution_count": 2,
   "metadata": {},
   "outputs": [
    {
     "name": "stdout",
     "output_type": "stream",
     "text": [
      "Created array: [1 2 3 4]\n",
      "Data type: int32\n"
     ]
    }
   ],
   "source": [
    "arr_list = [1, 2, 3, 4]\n",
    "arr_np = np.array(arr_list)\n",
    "print(\"Created array:\", arr_np)       # [1 2 3 4]\n",
    "print(\"Data type:\", arr_np.dtype)     # e.g., int64 (depends on platform)\n"
   ]
  },
  {
   "cell_type": "markdown",
   "metadata": {},
   "source": [
    " ### 2.2 Using Built-in NumPy Functions\n",
    " NumPy provides several functions to generate arrays of specific shapes and values:\n",
    "\n",
    " - `np.zeros(shape)`: Creates an array filled with zeros.\n",
    " - `np.ones(shape)`: Creates an array filled with ones.\n",
    " - `np.full(shape, fill_value)`: Creates an array filled with a specified value.\n",
    " - `np.arange(start, stop, step)`: Creates a range of values from start (inclusive) to stop (exclusive) with a given step.\n",
    " - `np.linspace(start, stop, num)`: Creates a set of evenly spaced numbers between start and stop."
   ]
  },
  {
   "cell_type": "code",
   "execution_count": 3,
   "metadata": {},
   "outputs": [
    {
     "name": "stdout",
     "output_type": "stream",
     "text": [
      "Zeros array:\n",
      " [0. 0. 0. 0.]\n",
      "Ones array:\n",
      " [1. 1. 1. 1. 1.]\n",
      "Fours array:\n",
      " [4 4 4 4 4 4]\n",
      "Arange array: [0 2 4 6 8]\n",
      "Linspace array: [0.   0.25 0.5  0.75 1.  ]\n"
     ]
    }
   ],
   "source": [
    "zeros_arr = np.zeros(4)       # 1D array of 4 zeros\n",
    "ones_arr = np.ones(5)              # 1D array of 5 ones\n",
    "fours_arr = np.full(6, 4)            # 1D array of 6 fours\n",
    "range_arr = np.arange(0, 10, 2)    # [0, 2, 4, 6, 8]\n",
    "lin_arr = np.linspace(0, 1, 5)     # [0., 0.25, 0.5, 0.75, 1.]\n",
    "\n",
    "print(\"Zeros array:\\n\", zeros_arr)\n",
    "print(\"Ones array:\\n\", ones_arr)\n",
    "print(\"Fours array:\\n\", fours_arr)\n",
    "print(\"Arange array:\", range_arr)\n",
    "print(\"Linspace array:\", lin_arr)\n"
   ]
  },
  {
   "cell_type": "markdown",
   "metadata": {},
   "source": [
    "### 2.3 Array dimensions (shape)\n",
    "Numpy supports multi-dimensional arrays, which are arrays with more than one dimension. For example, a 2D array can be thought of as a matrix with rows and columns, while a 3D array can be thought of as a stack of matrices.\n",
    "\n",
    "The shape of an array is a tuple that indicates the size of each dimension. For example, a 2D array with 3 rows and 4 columns has a shape of `(3, 4)`. Additionally, you can use `array.shape` to retrieve the shape of a NumPy array, where `array` is your NumPy array instance."
   ]
  },
  {
   "cell_type": "code",
   "execution_count": 4,
   "metadata": {},
   "outputs": [
    {
     "name": "stdout",
     "output_type": "stream",
     "text": [
      "2D array:\n",
      " [[1 2 3]\n",
      " [4 5 6]]\n",
      "Shape of 2D array: (2, 3)\n",
      "3D array:\n",
      " [[[1 2 3]\n",
      "  [3 4 5]]\n",
      "\n",
      " [[5 6 7]\n",
      "  [7 8 9]]]\n",
      "Shape of 3D array: (2, 2, 3)\n"
     ]
    }
   ],
   "source": [
    "a_2d_array = np.array([[1, 2, 3], [4, 5, 6]])\n",
    "print(\"2D array:\\n\", a_2d_array)\n",
    "print(\"Shape of 2D array:\", a_2d_array.shape)  # (2, 3)\n",
    "\n",
    "a_3d_array = np.array([[[1, 2, 3], [3, 4, 5]], [[5, 6, 7], [7, 8, 9]]])\n",
    "print(\"3D array:\\n\", a_3d_array)\n",
    "print(\"Shape of 3D array:\", a_3d_array.shape)"
   ]
  },
  {
   "cell_type": "markdown",
   "metadata": {},
   "source": [
    " **Practice Question 1**\n",
    "\n",
    " _Without introducing new commands (besides what you’ve seen above), create:_\n",
    "\n",
    " 1. A 1D array of 7 elements, all set to 3.\n",
    "\n",
    " 2. An array of even numbers from 10 to 20 (exclusive) using `np.arange`.\n",
    "\n",
    " 3. Print both arrays to verify."
   ]
  },
  {
   "cell_type": "code",
   "execution_count": 6,
   "metadata": {},
   "outputs": [
    {
     "name": "stdout",
     "output_type": "stream",
     "text": [
      "Array of sevens: [3 3 3 3 3 3 3]\n",
      "Array of even numbers: [10 12 14 16 18]\n"
     ]
    }
   ],
   "source": [
    "# Uncomment and complete the code below:\n",
    "\n",
    "# arr_sevens = ...\n",
    "arr_sevens = np.full(7,3)\n",
    "\n",
    "# arr_even = ...\n",
    "arr_even = np.arange(10, 20, 2)\n",
    "\n",
    "print(\"Array of sevens:\", arr_sevens)\n",
    "\n",
    "print(\"Array of even numbers:\", arr_even)\n",
    "\n"
   ]
  },
  {
   "cell_type": "markdown",
   "metadata": {},
   "source": [
    " ---\n",
    "\n",
    " ## 3. Basic Operations\n",
    "\n",
    "\n",
    "\n",
    " NumPy arrays support **element-wise** arithmetic. This means that when you perform operations on arrays of the same shape, the operation is applied element by element."
   ]
  },
  {
   "cell_type": "code",
   "execution_count": 7,
   "metadata": {},
   "outputs": [
    {
     "name": "stdout",
     "output_type": "stream",
     "text": [
      "x + y = [11 22 33]\n",
      "x * 2 = [2 4 6]\n",
      "x * y = [10 40 90]\n"
     ]
    }
   ],
   "source": [
    "x = np.array([1, 2, 3])\n",
    "y = np.array([10, 20, 30])\n",
    "\n",
    "print(\"x + y =\", x + y)       # [11 22 33]\n",
    "print(\"x * 2 =\", x * 2)       # [2 4 6]\n",
    "print(\"x * y =\", x * y)       # [10 40 90]\n"
   ]
  },
  {
   "cell_type": "markdown",
   "metadata": {},
   "source": [
    " **Array Statistics**\n",
    "\n",
    " Many functions exist for statistical operations:\n",
    "\n",
    " - `mean()`, `sum()`, `max()`, `min()`, `std()` (standard deviation), `var()` (variance), etc."
   ]
  },
  {
   "cell_type": "code",
   "execution_count": 8,
   "metadata": {},
   "outputs": [
    {
     "name": "stdout",
     "output_type": "stream",
     "text": [
      "Mean: 3.0\n",
      "Sum: 15\n",
      "Max: 5\n"
     ]
    }
   ],
   "source": [
    "arr = np.array([1, 2, 3, 4, 5])\n",
    "print(\"Mean:\", arr.mean())    # 3.0\n",
    "print(\"Sum:\", arr.sum())      # 15\n",
    "print(\"Max:\", arr.max())      # 5\n"
   ]
  },
  {
   "cell_type": "markdown",
   "metadata": {},
   "source": [
    " **Practice Question 2**\n",
    "\n",
    " 1. Create a 1D array of `[3, 5, 7, 9]` and store it in a variable called `test_arr`.\n",
    "\n",
    " 2. Print out the sum, mean, and standard deviation of `test_arr`.\n",
    "\n",
    " 3. Multiply `test_arr` by 4 and store it in `multiplied_arr`. Print `multiplied_arr`."
   ]
  },
  {
   "cell_type": "code",
   "execution_count": 11,
   "metadata": {},
   "outputs": [
    {
     "name": "stdout",
     "output_type": "stream",
     "text": [
      "[3 5 7 9]\n",
      "Sum: 24\n",
      "Mean: 6.0\n",
      "Std Dev: 2.23606797749979\n",
      "multiplied_arr: [12 20 28 36]\n"
     ]
    }
   ],
   "source": [
    "# Uncomment and complete the code below:\n",
    "\n",
    "# test_arr = ...\n",
    "test_arr = np.array([3, 5, 7, 9])\n",
    "print(test_arr)\n",
    "\n",
    "print(\"Sum:\", test_arr.sum())\n",
    "print(\"Mean:\", test_arr.mean())\n",
    "print(\"Std Dev:\", test_arr.std())\n",
    "\n",
    "# multiplied_arr = ...\n",
    "multiplied_arr = test_arr * 4\n",
    "print(\"multiplied_arr:\", multiplied_arr)\n",
    "\n"
   ]
  },
  {
   "cell_type": "markdown",
   "metadata": {},
   "source": [
    " ---\n",
    "\n",
    " ## 4. Reshaping and Indexing\n",
    "\n",
    "\n",
    "\n",
    " Reshaping allows you to change the shape of an array without altering its data. Indexing and slicing let you access or modify portions of an array.\n",
    "\n",
    "\n",
    "\n",
    " ### 4.1 Reshape\n",
    "\n",
    "\n",
    "\n",
    " `reshape(new_shape)` rearranges the elements to fit into the new shape."
   ]
  },
  {
   "cell_type": "code",
   "execution_count": 12,
   "metadata": {},
   "outputs": [
    {
     "name": "stdout",
     "output_type": "stream",
     "text": [
      "Original array: [1 2 3 4 5 6]\n",
      "Reshaped to 2x3:\n",
      " [[1 2 3]\n",
      " [4 5 6]]\n"
     ]
    }
   ],
   "source": [
    "mat = np.arange(1, 7)   # [1 2 3 4 5 6]\n",
    "mat_2d = mat.reshape(2, 3)\n",
    "print(\"Original array:\", mat)\n",
    "print(\"Reshaped to 2x3:\\n\", mat_2d)\n"
   ]
  },
  {
   "cell_type": "markdown",
   "metadata": {},
   "source": [
    " ### 4.2 Slicing\n",
    "\n",
    "\n",
    "\n",
    " Slicing in NumPy works similarly to Python lists, but you can do more advanced slicing for multi-dimensional arrays.\n",
    "\n",
    "\n",
    "\n",
    " - `arr[start:end]`: slices from `start` to `end-1` in one dimension.\n",
    "\n",
    " - For multi-dimensional arrays: `arr[row_start:row_end, col_start:col_end]`."
   ]
  },
  {
   "cell_type": "code",
   "execution_count": 13,
   "metadata": {},
   "outputs": [
    {
     "name": "stdout",
     "output_type": "stream",
     "text": [
      "arr[1:3] = [20 30]\n"
     ]
    }
   ],
   "source": [
    "# 1D slicing\n",
    "arr = np.array([10, 20, 30, 40, 50])\n",
    "print(\"arr[1:3] =\", arr[1:3])       # [20 30]\n",
    "\n"
   ]
  },
  {
   "cell_type": "markdown",
   "metadata": {},
   "source": [
    "For 2D arrays we can use two ranges to slice rows and columns.\n",
    "For instance to slice the following 2D array into the highlighted section:\n",
    "\n",
    "| Index | **0**  | **1**  | **2**  | **3**  |\n",
    "|----:|:--:|:--:|:--:|:--:|\n",
    "| **0**   | 11 | <span style=\"color:red;background-color:lightyellow\">12</span> | <span style=\"color:red;background-color:lightyellow\">13</span> | 14 |\n",
    "| **1**   | 21 | <span style=\"color:red;background-color:lightyellow\">22</span> | <span style=\"color:red;background-color:lightyellow\">23</span> | 24 |\n",
    "| **2**   | 31 | 32 | 33 | 34 |"
   ]
  },
  {
   "cell_type": "code",
   "execution_count": 14,
   "metadata": {},
   "outputs": [
    {
     "name": "stdout",
     "output_type": "stream",
     "text": [
      "[[12 13]\n",
      " [22 23]]\n"
     ]
    }
   ],
   "source": [
    "# 2D slicing\n",
    "array_2d = np.array([[11, 12, 13, 14], \n",
    "                      [21, 22, 23, 24], \n",
    "                      [31, 32, 33, 34]])\n",
    "\n",
    "# A slice would be\n",
    "\n",
    "a_slice = array_2d[:2, 1:3]\n",
    "\n",
    "print(a_slice)"
   ]
  },
  {
   "cell_type": "markdown",
   "metadata": {},
   "source": [
    "You can also use `:` to slice all rows or columns. For example, `arr[1,:]` selects all rows and columns 1 and 2.\n",
    "\n",
    "| Index | **0**  | **1**  | **2**  | **3**  |\n",
    "|----:|:--:|:--:|:--:|:--:|\n",
    "| **0**   | 11 | 12 | 13 | 14 |\n",
    "| **1**   | <span style=\"color:red;background-color:lightyellow\">21</span> | <span style=\"color:red;background-color:lightyellow\">22</span> | <span style=\"color:red;background-color:lightyellow\">23</span> | <span style=\"color:red;background-color:lightyellow\">24</span> |\n",
    "| **2**   | 31 | 32 | 33 | 34 |\n"
   ]
  },
  {
   "cell_type": "code",
   "execution_count": 15,
   "metadata": {},
   "outputs": [
    {
     "name": "stdout",
     "output_type": "stream",
     "text": [
      "[21 22 23 24]\n"
     ]
    }
   ],
   "source": [
    "row_slice = array_2d[1,:]\n",
    "\n",
    "print(row_slice)"
   ]
  },
  {
   "cell_type": "markdown",
   "metadata": {},
   "source": [
    "For slicing whole columns, use arr[:,1]\n",
    "\n",
    "| Index | **0**  | **1**  | **2**  | **3**  |\n",
    "|----:|:--:|:--:|:--:|:--:|\n",
    "| **0**   | 11 | <span style=\"color:red;background-color:lightyellow\">12</span> | 13 | 14 |\n",
    "| **1**   | 21 | <span style=\"color:red;background-color:lightyellow\">22</span> | 23 | 24 |\n",
    "| **2**   | 31 | <span style=\"color:red;background-color:lightyellow\">32</span> | 33 | 34 |\n",
    "\n"
   ]
  },
  {
   "cell_type": "code",
   "execution_count": 16,
   "metadata": {},
   "outputs": [
    {
     "name": "stdout",
     "output_type": "stream",
     "text": [
      "[12 22 32]\n"
     ]
    }
   ],
   "source": [
    "column_array = array_2d[:, 1]\n",
    "print(column_array)"
   ]
  },
  {
   "cell_type": "markdown",
   "metadata": {},
   "source": [
    "It is also possible to reverse slices from the end of the array using negative indices.\n",
    " - `arr[-1]`: last element\n",
    " - `arr[-2:]`: last two elements\n",
    " - `arr[:-1]`: all but the last element \n",
    " - `arr[-4:-2]`: o slice from the end of the array without the last two elements\n",
    " - `arr[:,-1]`: last column of a 2D array\n",
    "\n",
    " "
   ]
  },
  {
   "cell_type": "code",
   "execution_count": 17,
   "metadata": {},
   "outputs": [
    {
     "name": "stdout",
     "output_type": "stream",
     "text": [
      "Last element: 50\n",
      "Last two elements: [40 50]\n",
      "All but the last element: [10 20 30 40]\n",
      "Last elements except last two: [20 30]\n",
      "Last column of 2D array: [14 24 34]\n",
      "Last row of 2D array: [31 32 33 34]\n",
      "Last two rows of 2D array:\n",
      " [[21 22 23 24]\n",
      " [31 32 33 34]]\n",
      "Last two rows and last two columns of 2D array:\n",
      " [[23 24]\n",
      " [33 34]]\n"
     ]
    }
   ],
   "source": [
    "# 1d advanced slicing\n",
    "an_array_1d = np.array([10, 20, 30, 40, 50])\n",
    "print(\"Last element:\", an_array_1d[-1])       # 50\n",
    "print(\"Last two elements:\", an_array_1d[-2:]) # [40 50]\n",
    "print(\"All but the last element:\", an_array_1d[:-1]) # [10 20 30 40]\n",
    "print(\"Last elements except last two:\", an_array_1d[-4:-2]) # [20 30]\n",
    "print(\"Last column of 2D array:\", array_2d[:,-1]) # [14 24 34]\n",
    "\n",
    "# 2d array slicing\n",
    "array_2d = np.array([[11, 12, 13, 14], \n",
    "                      [21, 22, 23, 24], \n",
    "                      [31, 32, 33, 34]])\n",
    "\n",
    "print(\"Last row of 2D array:\", array_2d[-1]) # [31 32 33 34]\n",
    "print(\"Last two rows of 2D array:\\n\", array_2d[-2:]) # [[21 22 23 24] [31 32 33 34]]\n",
    "print(\"Last two rows and last two columns of 2D array:\\n\", array_2d[-2:, -2:]) # [[22 23] [32 33]]\n"
   ]
  },
  {
   "cell_type": "markdown",
   "metadata": {},
   "source": [
    " **Practice Question 3**\n",
    " 1. Create a 1D array of `[5, 10, 15, 20, 25, 30]`. Slice out `[15, 20, 25]` and print it.\n",
    " 2. Create a 2D array of shape (3,4) using `np.arange(1, 13)` (it will contain 1 to 12).\n",
    " Then:\n",
    "    - Reshape it to shape (3, 4).\n",
    "    - Print the second row only.\n",
    "    - Print the first two elements of the third row.\n",
    "    - Print the last two columns of the first two rows."
   ]
  },
  {
   "cell_type": "code",
   "execution_count": 23,
   "metadata": {},
   "outputs": [
    {
     "name": "stdout",
     "output_type": "stream",
     "text": [
      "Slice result: [15 20 25]\n",
      "2D array:\n",
      "[[ 1  2  3  4]\n",
      " [ 5  6  7  8]\n",
      " [ 9 10 11 12]]\n",
      "Second row: [5 6 7 8]\n",
      "First two elements of third row: [ 9 10]\n",
      "Last two columns of the first two rows. [[3 4]\n",
      " [7 8]]\n"
     ]
    }
   ],
   "source": [
    "# Uncomment and complete the code below:\n",
    "\n",
    "my_arr_1d = np.array([5, 10, 15, 20, 25, 30])\n",
    "# slice_result = ...\n",
    "slice_result = my_arr_1d[2:5]\n",
    "print(\"Slice result:\", slice_result)\n",
    "\n",
    "\n",
    "# my_arr_2d = ...\n",
    "my_arr_2d = np.arange(1, 13).reshape(3, 4)\n",
    "print('2D array:')\n",
    "print(my_arr_2d)\n",
    "\n",
    "# print(\"Second row:\", ...)\n",
    "print(\"Second row:\", my_arr_2d[1])\n",
    "\n",
    "print(\"First two elements of third row:\", my_arr_2d[2, :2])\n",
    "\n",
    "print(\"Last two columns of the first two rows.\", my_arr_2d[:2, -2:])\n",
    "\n"
   ]
  },
  {
   "cell_type": "markdown",
   "metadata": {},
   "source": [
    " ---\n",
    "\n",
    " ## 5. Fancy Indexing and Boolean Masking\n",
    "\n",
    "\n",
    "\n",
    " ### 5.1 Fancy Indexing\n",
    "\n",
    "\n",
    "\n",
    " You can pass an array of indices to directly pick elements in the order you want."
   ]
  },
  {
   "cell_type": "code",
   "execution_count": 24,
   "metadata": {},
   "outputs": [
    {
     "name": "stdout",
     "output_type": "stream",
     "text": [
      "Fancy indexing result: [10 10 10 20 20 50]\n"
     ]
    }
   ],
   "source": [
    "arr = np.array([10, 20, 30, 40, 50])\n",
    "idx = np.array([0,0,0,1,1,-1])  # positions to pick\n",
    "print(\"Fancy indexing result:\", arr[idx])   # [10 10 10 20 20 50]\n"
   ]
  },
  {
   "cell_type": "markdown",
   "metadata": {},
   "source": [
    " ### 5.2 Boolean Masking\n",
    "\n",
    "\n",
    "\n",
    " Boolean masking lets you filter an array based on a condition, returning only the elements that satisfy that condition."
   ]
  },
  {
   "cell_type": "code",
   "execution_count": 25,
   "metadata": {},
   "outputs": [
    {
     "name": "stdout",
     "output_type": "stream",
     "text": [
      "Mask array: [False False  True  True  True]\n",
      "Filtered: [30 40 50]\n"
     ]
    },
    {
     "data": {
      "text/plain": [
       "array([10, 20, 30])"
      ]
     },
     "execution_count": 25,
     "metadata": {},
     "output_type": "execute_result"
    }
   ],
   "source": [
    "arr = np.array([10, 20, 30, 40, 50])\n",
    "mask = arr > 25\n",
    "print(\"Mask array:\", mask)        # [False False  True  True  True]\n",
    "print(\"Filtered:\", arr[mask])     # [30 40 50]\n",
    "\n",
    "arr[arr < 40]\n"
   ]
  },
  {
   "cell_type": "markdown",
   "metadata": {},
   "source": [
    " **Practice Question 4**\n",
    "\n",
    " 1. Create an array of `[2, 4, 6, 8, 10, 12]`. Use fancy indexing to pick out `[10, 4, 2]` in that order.\n",
    "\n",
    " 2. Create a boolean mask that selects the elements of this array that are greater than 6."
   ]
  },
  {
   "cell_type": "code",
   "execution_count": 26,
   "metadata": {},
   "outputs": [
    {
     "name": "stdout",
     "output_type": "stream",
     "text": [
      "Fancy selection: [10  4  2]\n",
      "Elements greater than 6: [ 8 10 12]\n"
     ]
    }
   ],
   "source": [
    "# Uncomment and complete the code below:\n",
    "\n",
    "test_fancy = np.array([2, 4, 6, 8, 10, 12])\n",
    "# fancy_indices = ...\n",
    "fancy_indices = np.array([4, 1, 0])\n",
    "\n",
    "print(\"Fancy selection:\", test_fancy[fancy_indices])\n",
    "\n",
    "print(\"Elements greater than 6:\", test_fancy[test_fancy > 6])\n",
    "\n"
   ]
  },
  {
   "cell_type": "markdown",
   "metadata": {},
   "source": [
    " ---\n",
    "\n",
    " ## 6. Broadcasting\n",
    "\n",
    "\n",
    "\n",
    " **Broadcasting** describes how NumPy automatically handles arithmetic between arrays of different shapes. When possible, NumPy “broadcasts” the smaller array so that it matches the dimensions of the larger array.\n",
    "\n",
    "\n",
    "\n",
    " For instance, adding a 1D array to a 2D array along a compatible axis:"
   ]
  },
  {
   "cell_type": "code",
   "execution_count": 27,
   "metadata": {},
   "outputs": [
    {
     "name": "stdout",
     "output_type": "stream",
     "text": [
      "Result of a + b:\n",
      " [[11 22 33]\n",
      " [14 25 36]]\n"
     ]
    }
   ],
   "source": [
    "a = np.array([[1, 2, 3],\n",
    "              [4, 5, 6]])\n",
    "b = np.array([10, 20, 30])\n",
    "\n",
    "print(\"Result of a + b:\\n\", a + b)\n",
    "# The 1D array b is \"broadcasted\" across each row of a:\n",
    "\n"
   ]
  },
  {
   "cell_type": "markdown",
   "metadata": {},
   "source": [
    " **Practice Question 5**\n",
    "\n",
    " 1. Create a 2D array `[[1,2],[3,4]]`.\n",
    "\n",
    " 2. Create a 1D array `[10, 20]`.\n",
    "\n",
    " 3. Add them using broadcasting and print the result.\n",
    "\n",
    " 4. (Optional) Predict the shape and values before running the code."
   ]
  },
  {
   "cell_type": "code",
   "execution_count": 29,
   "metadata": {},
   "outputs": [
    {
     "name": "stdout",
     "output_type": "stream",
     "text": [
      "2D array:\n",
      " [[1 2]\n",
      " [3 4]]\n",
      "1D array:\n",
      " [10 20]\n",
      "Broadcasting result:\n",
      " [[11 22]\n",
      " [13 24]]\n"
     ]
    }
   ],
   "source": [
    "# Uncomment and complete the code below:\n",
    "\n",
    "arr_2d = np.array([[1,2],[3,4]])\n",
    "print(\"2D array:\\n\", arr_2d)\n",
    "\n",
    "arr_1d = np.array([10, 20])\n",
    "print(\"1D array:\\n\", arr_1d)\n",
    "\n",
    "# result_broadcast = ...\n",
    "result_broadcast = arr_2d + arr_1d\n",
    "print(\"Broadcasting result:\\n\", result_broadcast)\n",
    "\n"
   ]
  },
  {
   "cell_type": "markdown",
   "metadata": {},
   "source": [
    " ---\n",
    "\n",
    " ## 7. Random and Useful Utilities\n",
    "\n",
    "\n",
    "\n",
    " NumPy offers a variety of random number generation functions in the `np.random` module:\n",
    "\n",
    " - `np.random.rand(shape)`: Uniform distribution over `[0, 1)`.\n",
    "\n",
    " - `np.random.randn(shape)`: Normal distribution with mean=0, std=1.\n",
    "\n",
    " - `np.random.randint(low, high, size)`: Random integers from `low` to `high-1`.\n",
    "\n",
    "\n",
    "\n",
    " **Inspecting shapes** and dimensions:\n",
    "\n",
    " - `.shape`: Returns the shape (rows, columns).\n",
    "\n",
    " - `.ndim`: Returns the number of dimensions.\n",
    "\n",
    " - `.size`: Returns the total number of elements."
   ]
  },
  {
   "cell_type": "code",
   "execution_count": 30,
   "metadata": {},
   "outputs": [
    {
     "name": "stdout",
     "output_type": "stream",
     "text": [
      "Uniform random:\n",
      " [[0.95123682 0.52596114]\n",
      " [0.57485083 0.15890113]\n",
      " [0.89154217 0.9685821 ]]\n",
      "Shape: (3, 2)\n",
      "\n",
      "Normal random:\n",
      " [[-0.26868965 -1.72234755]\n",
      " [ 1.49882592 -1.76323172]\n",
      " [-0.06039109  0.07953904]]\n",
      "Shape: (3, 2)\n",
      "\n",
      "Integer random:\n",
      " [[7 9 8]\n",
      " [7 9 6]]\n",
      "Shape: (2, 3)\n"
     ]
    }
   ],
   "source": [
    "# Random numbers\n",
    "rand_arr = np.random.rand(3, 2)    # uniform in [0,1)\n",
    "randn_arr = np.random.randn(3, 2)  # normal distribution (mean=0, std=1)\n",
    "randint_arr = np.random.randint(5, 15, size=(2,3)) # random ints between 5 and 14\n",
    "\n",
    "print(\"Uniform random:\\n\", rand_arr)\n",
    "print(\"Shape:\", rand_arr.shape)\n",
    "print(\"\\nNormal random:\\n\", randn_arr)\n",
    "print(\"Shape:\", randn_arr.shape)\n",
    "print(\"\\nInteger random:\\n\", randint_arr)\n",
    "print(\"Shape:\", randint_arr.shape)\n"
   ]
  },
  {
   "cell_type": "markdown",
   "metadata": {},
   "source": [
    " **Practice Question 6**\n",
    "\n",
    " 1. Generate a 1D array of 5 random integers between 0 and 10.\n",
    "\n",
    " 2. Print its shape, and number of dimensions.\n",
    "\n",
    " 3. Reshape it to `(5, 1)` and print the new shape."
   ]
  },
  {
   "cell_type": "code",
   "execution_count": 48,
   "metadata": {},
   "outputs": [
    {
     "name": "stdout",
     "output_type": "stream",
     "text": [
      "[6 5 6 4 9]\n",
      "Shape of rand_ints: (5,)\n",
      "Number of dimensions: 1\n",
      "New shape: (5, 1)\n",
      "[[6]\n",
      " [5]\n",
      " [6]\n",
      " [4]\n",
      " [9]]\n"
     ]
    }
   ],
   "source": [
    "# Uncomment and complete the code below:\n",
    "\n",
    "rand_ints = np.random.randint(0, 10, 5)\n",
    "print(rand_ints)\n",
    "\n",
    "print(\"Shape of rand_ints:\", rand_ints.shape)\n",
    "print(\"Number of dimensions:\", rand_ints.ndim)\n",
    "\n",
    "reshaped = rand_ints.reshape(5,1)\n",
    "print(\"New shape:\", reshaped.shape)\n",
    "print(reshaped)\n",
    "\n",
    "\n"
   ]
  },
  {
   "cell_type": "markdown",
   "metadata": {},
   "source": [
    "  # Questions\n",
    "\n",
    "\n",
    "\n",
    "\n",
    "\n",
    "\n",
    "\n",
    "  Solve the following exercises to practice NumPy basics. Follow the instructions and fill in the blanks where indicated.\n",
    "\n",
    "\n",
    "\n",
    "  There is no need to submit this notebook; it's for your practice only."
   ]
  },
  {
   "cell_type": "markdown",
   "metadata": {},
   "source": [
    "  ## 1. Array Creation and Initialization\n",
    "\n",
    "\n",
    "\n",
    "\n",
    "\n",
    "\n",
    "\n",
    "  **Task:**\n",
    "\n",
    "\n",
    "\n",
    "  1. Create a 1D NumPy array of the first 10 positive integers.\n",
    "\n",
    "\n",
    "\n",
    "  2. Create a 2x5 array of zeros.\n",
    "\n",
    "\n",
    "\n",
    "  3. Create a 4x4 identity matrix."
   ]
  },
  {
   "cell_type": "code",
   "execution_count": 56,
   "metadata": {},
   "outputs": [
    {
     "name": "stdout",
     "output_type": "stream",
     "text": [
      "1D array: [ 1  2  3  4  5  6  7  8  9 10]\n",
      "2x5 array of zeros:\n",
      " [[0. 0. 0. 0. 0.]\n",
      " [0. 0. 0. 0. 0.]]\n",
      "4x4 identity matrix:\n",
      " [[1 0 0 0]\n",
      " [0 1 0 0]\n",
      " [0 0 1 0]\n",
      " [0 0 0 1]]\n"
     ]
    }
   ],
   "source": [
    "# Your solution:\n",
    "# 1. Create a 1D NumPy array of the first 10 positive integers\n",
    "arr_1d = np.arange(1, 11, 1)\n",
    "print(\"1D array:\", arr_1d)\n",
    "\n",
    "# 2. Create a 2x5 array of zeros\n",
    "arr_2_5_zeros = np.zeros((2, 5))\n",
    "print(\"2x5 array of zeros:\\n\", arr_2_5_zeros)\n",
    "\n",
    "# 3. Create a 4x4 identity matrix\n",
    "arr_4_4_identity = np.identity(4, dtype=int)\n",
    "print(\"4x4 identity matrix:\\n\", arr_4_4_identity)\n"
   ]
  },
  {
   "cell_type": "markdown",
   "metadata": {},
   "source": [
    "  ## 2. Array Operations\n",
    "\n",
    "\n",
    "\n",
    "\n",
    "\n",
    "\n",
    "\n",
    "  **Task:**\n",
    "\n",
    "\n",
    "\n",
    "  Given the array `arr = np.array([5, 10, 15, 20, 25])`, do the following:\n",
    "\n",
    "\n",
    "\n",
    "  1. Multiply each element by 3.\n",
    "\n",
    "\n",
    "\n",
    "  2. Subtract 5 from each element.\n",
    "\n",
    "\n",
    "\n",
    "  3. Compute the sum of all elements in the resulting array."
   ]
  },
  {
   "cell_type": "code",
   "execution_count": 58,
   "metadata": {},
   "outputs": [
    {
     "name": "stdout",
     "output_type": "stream",
     "text": [
      "Original array: [ 5 10 15 20 25]\n",
      "Times 3: [15 30 45 60 75]\n",
      "Minus 5: [10 25 40 55 70]\n",
      "Sum: 200\n"
     ]
    }
   ],
   "source": [
    "# Your solution:\n",
    "arr = np.array([5, 10, 15, 20, 25])\n",
    "print(\"Original array:\", arr)\n",
    "\n",
    "# 1. Multiply each element by 3\n",
    "arr = arr * 3\n",
    "print(\"Times 3:\", arr)\n",
    "\n",
    "# 2. Subtract 5 from each element\n",
    "arr = arr - 5\n",
    "print(\"Minus 5:\", arr)\n",
    "\n",
    "# 3. Compute the sum of all elements\n",
    "arr_sum = arr.sum()\n",
    "print(\"Sum:\", arr_sum)\n",
    "\n"
   ]
  },
  {
   "cell_type": "markdown",
   "metadata": {},
   "source": [
    "  ## 3. Reshaping and Indexing\n",
    "\n",
    "\n",
    "\n",
    "\n",
    "\n",
    "\n",
    "\n",
    "  **Task:**\n",
    "\n",
    "\n",
    "\n",
    "  1. Create a 1D array of integers from 1 to 12.\n",
    "\n",
    "\n",
    "\n",
    "  2. Reshape it into a 3x4 matrix.\n",
    "\n",
    "\n",
    "\n",
    "  3. Extract the element in the 2nd row, 3rd column.\n",
    "\n",
    "\n",
    "\n",
    "  4. Extract the first column as a 1D array."
   ]
  },
  {
   "cell_type": "code",
   "execution_count": 62,
   "metadata": {},
   "outputs": [
    {
     "name": "stdout",
     "output_type": "stream",
     "text": [
      "1D array: [ 1  2  3  4  5  6  7  8  9 10 11 12]\n",
      "3x4 matrix:\n",
      " [[ 1  2  3  4]\n",
      " [ 5  6  7  8]\n",
      " [ 9 10 11 12]]\n",
      "Element: 7\n",
      "Extracted column: [1 5 9]\n"
     ]
    }
   ],
   "source": [
    "# Your solution:\n",
    "\n",
    "# 1. Create a 1D array of integers from 1 to 12\n",
    "arr_1d_int = np.arange(1, 13,1)\n",
    "print(\"1D array:\", arr_1d_int)\n",
    "\n",
    "# 2. Reshape it into a 3x4 matrix\n",
    "arr_3_4 = arr_1d_int.reshape(3, 4)\n",
    "print(\"3x4 matrix:\\n\", arr_3_4)\n",
    "\n",
    "# 3. Extract the element in the 2nd row, 3rd column\n",
    "element = arr_3_4[1, 2]\n",
    "print(\"Element:\", element)\n",
    "\n",
    "# 4. Extract the first column as a 1D array\n",
    "extracted_col = arr_3_4[:, 0]\n",
    "print(\"Extracted column:\", extracted_col)\n"
   ]
  },
  {
   "cell_type": "markdown",
   "metadata": {},
   "source": [
    "  ## 4. Fancy Indexing\n",
    "\n",
    "\n",
    "\n",
    "\n",
    "\n",
    "\n",
    "\n",
    "  **Task:**\n",
    "\n",
    "\n",
    "\n",
    "  Given `arr = np.array([100, 200, 300, 400, 500])` and `indices = np.array([4, 0, 2])`:\n",
    "\n",
    "\n",
    "\n",
    "  1. Use fancy indexing to extract the elements at positions defined by `indices`.\n",
    "\n",
    "\n",
    "\n",
    "  2. Rearrange the extracted elements into descending order."
   ]
  },
  {
   "cell_type": "code",
   "execution_count": 64,
   "metadata": {},
   "outputs": [
    {
     "name": "stdout",
     "output_type": "stream",
     "text": [
      "Extracted elements: [500 100 300]\n",
      "Sorted extracted elements: [500 300 100]\n"
     ]
    }
   ],
   "source": [
    "# Your solution:\n",
    "arr = np.array([100, 200, 300, 400, 500])\n",
    "indices = np.array([4, 0, 2])\n",
    "\n",
    "# 1. Use fancy indexing to extract elements\n",
    "extracted = arr[indices]\n",
    "print(\"Extracted elements:\", extracted)\n",
    "\n",
    "# 2. Rearrange the extracted elements into descending order\n",
    "sorted_extracted = np.sort(extracted)[::-1]     # Sort will be ascending so just need to reverse with [::-1]\n",
    "print(\"Sorted extracted elements:\", sorted_extracted)\n",
    "\n"
   ]
  },
  {
   "cell_type": "markdown",
   "metadata": {},
   "source": [
    "  ## 5. Boolean Masking\n",
    "\n",
    "\n",
    "\n",
    "\n",
    "\n",
    "\n",
    "\n",
    "  **Task:**\n",
    "\n",
    "\n",
    "\n",
    "  Given `arr = np.array([1, 4, 7, 10, 13, 16])`:\n",
    "\n",
    "\n",
    "\n",
    "  1. Create a boolean mask for elements greater than 8.\n",
    "\n",
    "\n",
    "\n",
    "  2. Use the mask to extract those elements.\n",
    "\n",
    "\n",
    "\n",
    "  3. Compute the mean of the extracted elements."
   ]
  },
  {
   "cell_type": "code",
   "execution_count": 65,
   "metadata": {},
   "outputs": [
    {
     "name": "stdout",
     "output_type": "stream",
     "text": [
      "Mask: [False False False  True  True  True]\n",
      "Extracted elements: [10 13 16]\n",
      "Mean: 13.0\n"
     ]
    }
   ],
   "source": [
    "# Your solution:\n",
    "arr = np.array([1, 4, 7, 10, 13, 16])\n",
    "\n",
    "# 1. Create a boolean mask for elements greater than 8\n",
    "mask = arr > 8\n",
    "print(\"Mask:\", mask)\n",
    "\n",
    "# 2. Use the mask to extract those elements\n",
    "extracted = arr[mask]\n",
    "print(\"Extracted elements:\", extracted)\n",
    "\n",
    "# 3. Compute the mean of the extracted elements\n",
    "mean = extracted.mean()\n",
    "print(\"Mean:\", mean)\n",
    "\n"
   ]
  },
  {
   "cell_type": "markdown",
   "metadata": {},
   "source": [
    "  ## 6. Broadcasting\n",
    "\n",
    "\n",
    "\n",
    "\n",
    "\n",
    "\n",
    "\n",
    "  **Task:**\n",
    "\n",
    "\n",
    "\n",
    "  Given the 2D array `a = np.array([[1, 2, 3], [4, 5, 6]])`:\n",
    "\n",
    "\n",
    "\n",
    "  1. Add the 1D array `b = np.array([10, 20, 30])` to each row of `a`.\n",
    "\n",
    "\n",
    "\n",
    "  2. Multiply each element of `a` by 2.\n",
    "\n",
    "\n",
    "\n",
    "  3. Compute the sum of all elements in the resulting array."
   ]
  },
  {
   "cell_type": "code",
   "execution_count": 67,
   "metadata": {},
   "outputs": [
    {
     "name": "stdout",
     "output_type": "stream",
     "text": [
      "Aray a\n",
      " [[1 2 3]\n",
      " [4 5 6]]\n",
      "Array b\n",
      " [10 20 30]\n",
      "Result: [[11 22 33]\n",
      " [14 25 36]]\n",
      "Doubled a: [[ 2  4  6]\n",
      " [ 8 10 12]]\n",
      "Sum of a: 42\n"
     ]
    }
   ],
   "source": [
    "# Your solution:\n",
    "a = np.array([[1, 2, 3], [4, 5, 6]])\n",
    "print(\"Aray a\\n\", a)\n",
    "\n",
    "b = np.array([10, 20, 30])\n",
    "print(\"Array b\\n\", b)\n",
    "\n",
    "# 1. Add `b` to each row of `a`\n",
    "result = a + b\n",
    "print(\"Result:\", result)\n",
    "\n",
    "# 2. Multiply each element of `a` by 2\n",
    "a = a * 2\n",
    "print(\"Doubled a:\", a)\n",
    "\n",
    "# 3. Compute the sum of all elements\n",
    "sum_a = a.sum()\n",
    "print(\"Sum of a:\", sum_a)\n",
    "\n"
   ]
  },
  {
   "cell_type": "markdown",
   "metadata": {},
   "source": [
    "  ## 7. Random Array Utilities\n",
    "\n",
    "\n",
    "\n",
    "\n",
    "\n",
    "\n",
    "\n",
    "  **Task:**\n",
    "\n",
    "\n",
    "\n",
    "  1. Generate a 3x3 array of random values uniformly distributed between 0 and 1.\n",
    "\n",
    "\n",
    "\n",
    "  2. Generate a 3x3 array of random values drawn from a standard normal distribution.\n",
    "\n",
    "\n",
    "\n",
    "  3. Compute the mean and standard deviation of each array."
   ]
  },
  {
   "cell_type": "code",
   "execution_count": 70,
   "metadata": {},
   "outputs": [
    {
     "name": "stdout",
     "output_type": "stream",
     "text": [
      "Random uniform array:\n",
      " [[0.95428892 0.00249881 0.72757345]\n",
      " [0.92937066 0.09784962 0.36650344]\n",
      " [0.44777224 0.84765299 0.86455245]]\n",
      "Random normal array 3x3:\n",
      " [[ 0.26348266  0.90981796  1.42628908]\n",
      " [-1.16022642  0.06150833 -0.22830257]\n",
      " [-1.00424634  0.28889515 -1.78421034]]\n",
      "Mean of uniform array: 0.5820069530076126\n",
      "Standard deviation of uniform array: 0.3440838903170209\n",
      "Mean of normal array: -0.13633249793399027\n",
      "Standard deviation of normal array: 0.9684823042101467\n"
     ]
    }
   ],
   "source": [
    "# Your solution:\n",
    "\n",
    "# 1. Generate a 3x3 array of random values uniformly distributed between 0 and 1\n",
    "arr_rnd_uniform = np.random.rand(3, 3)\n",
    "print(\"Random uniform array:\\n\", arr_rnd_uniform)\n",
    "\n",
    "# 2. Generate a 3x3 array of random values drawn from a standard normal distribution\n",
    "arr_rnd_normal = np.random.randn(3, 3)\n",
    "print(\"Random normal array 3x3:\\n\", arr_rnd_normal)\n",
    "\n",
    "# 3. Compute the mean and standard deviation of each array\n",
    "mean_uniform = arr_rnd_uniform.mean()\n",
    "print(\"Mean of uniform array:\", mean_uniform)\n",
    "\n",
    "std_uniform = arr_rnd_uniform.std()\n",
    "print(\"Standard deviation of uniform array:\", std_uniform)\n",
    "\n",
    "mean_normal = arr_rnd_normal.mean()\n",
    "print(\"Mean of normal array:\", mean_normal)\n",
    "\n",
    "std_normal = arr_rnd_normal.std()\n",
    "print(\"Standard deviation of normal array:\", std_normal)\n"
   ]
  }
 ],
 "metadata": {
  "kernelspec": {
   "display_name": "usableai",
   "language": "python",
   "name": "python3"
  },
  "language_info": {
   "codemirror_mode": {
    "name": "ipython",
    "version": 3
   },
   "file_extension": ".py",
   "mimetype": "text/x-python",
   "name": "python",
   "nbconvert_exporter": "python",
   "pygments_lexer": "ipython3",
   "version": "3.11.11"
  }
 },
 "nbformat": 4,
 "nbformat_minor": 4
}
