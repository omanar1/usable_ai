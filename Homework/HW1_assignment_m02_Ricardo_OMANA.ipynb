{
 "cells": [
  {
   "cell_type": "markdown",
   "metadata": {},
   "source": [
    "# Homework 1 Introduction to Python \n",
    "\n",
    "In this homework, we will be getting more experienced with python through file processing. With this guide, you will be able to:\n",
    "- read from a text (.txt) file\n",
    "- process the words of the file\n",
    "- output the result of this process\n",
    "\n",
    "### Instructions\n",
    "\n",
    "1. Follow the instructions on how to setup your Python and Jupyter (or VSCode) environment and cloning or downloading our repository. Instructions can be found in the class notes:\n",
    "   https://filipinascimento.github.io/usable_ai/m00-setup/class\n",
    "2. Ensure that you have Python and Jupyter Notebook working. (You can also try using Google Colab. This is not the preferred method for this homework, but it is an option)\n",
    "3. Load the text files: `story-1.txt`, `story-2.txt`, `story-3.txt`, and `story-4.txt`, located in the `Datasets` directory. (If you are using Google Colab, you will need to upload the files to the colab environment)\n",
    "4. Answer the questions below by writing or completing the code in the provided cells.\n",
    "\n",
    "### Dataset Overview\n",
    "The dataset consists of four text files, each containing a story. The stories are:\n",
    "\n",
    "- `story-1.txt`: The Monkey and the Crocodile\n",
    "- `story-2.txt`: The Musical Donkey\n",
    "- `story-3.txt`: A Tale of Three Fish\n",
    "- `story-4.txt`: The Foolish Lion and the Clever Rabbit\n",
    "\n",
    "### Submission Guidelines\n",
    "\n",
    "- Submit your completed notebook as a HTML export, or a PDF file.\n",
    "\n",
    "To export to HTML, if you are on Jupyter, select `File` > `Export Notebook As` > `HTML`.\n",
    "\n",
    "If you are on VSCode, you can use the `Jupyter: Export to HTML` command.\n",
    " - Open the command palette (Ctrl+Shift+P or Cmd+Shift+P on Mac).\n",
    "    - Search for `Jupyter: Export to HTML`.\n",
    "    - Save the HTML file to your computer and submit it via Canvas.\n",
    "\n",
    "---\n",
    "\n",
    "> \n",
    "> **Using Generative AI Responsibly**\n",
    ">\n",
    "> You're welcome to use Generative AI to assist your learning, but focus on understanding the concepts rather than just solving the assignment. For example, instead of copying and pasting the question into the model, ask it to explain the concept in the question. Try asking: `How can I open a file in Python? Can you give me examples?` or `What functions and methods can I use to extract the words of a text file? Can you explain how they work with some examples?`\n",
    ">\n",
    "> This way, you will learn how the solution works while building your skills. Remember to give context to the generative AI, so it can better assist you. Talk to the instructor and AIs if you have any questions or need insights.\n",
    "\n",
    "\n",
    "To begin, we will first need to make sure the functions (set of instructions) we need to use are included in this file. We'll do this through an import statement, followed by the libraries we need. In this case, we will use the `os` library. In the cell below, type the library name where the `_` is. In the remainder of this guide, you will be filling in some value where ever a `_` or `...` is."
   ]
  },
  {
   "cell_type": "code",
   "execution_count": 1,
   "metadata": {},
   "outputs": [],
   "source": [
    "# TODO - Enter Library Name\n",
    "import os   # Library to handle directories, files"
   ]
  },
  {
   "cell_type": "markdown",
   "metadata": {},
   "source": [
    "Next, we'll need to put the text files in a known location. The cell below prints out the current path, place the text files in this directory to ensure they are found by your script."
   ]
  },
  {
   "cell_type": "code",
   "execution_count": 2,
   "metadata": {},
   "outputs": [
    {
     "name": "stdout",
     "output_type": "stream",
     "text": [
      "c:\\Users\\ricardo\\Documents\\GitHub\\usable_ai\\Homework\n"
     ]
    }
   ],
   "source": [
    "# Getting the current path and displaying it\n",
    "current_path = os.getcwd()\n",
    "print(current_path)"
   ]
  },
  {
   "cell_type": "markdown",
   "metadata": {},
   "source": [
    "You can compose paths using the `os.path.join()` function. This function takes two arguments, the first being the directory path and the second being the file name. This function will return a string with the path to the file.\n",
    "\n",
    "For example, suppose you have a directory named `data` and a file named `story-1.txt`. You can compose the path to the file using the following code:\n"
   ]
  },
  {
   "cell_type": "code",
   "execution_count": 3,
   "metadata": {},
   "outputs": [
    {
     "name": "stdout",
     "output_type": "stream",
     "text": [
      "data\\story-1.txt\n"
     ]
    }
   ],
   "source": [
    "# Composing the path to the file\n",
    "a_path = os.path.join('data', 'story-1.txt')\n",
    "print(a_path)"
   ]
  },
  {
   "cell_type": "markdown",
   "metadata": {},
   "source": [
    "Now let's create the directory path to the `Datasets` folder. You can use `\"..\"` to refer to the parent directory. For example to compose a path from the parent of the current directory\n",
    "\n",
    "```python\n",
    "path_to_datasets = os.path.join(\"..\", \"Datasets\")\n",
    "```\n",
    "\n",
    "You can use multiple path components to compose a new path. For example to compose a path from the parent of the current directory to the `Datasets` folder you can use:\n",
    "\n",
    "```python\n",
    "path_to_datasets = os.path.join(a_path, \"..\", \"..\",\"a_file.txt\")\n",
    "```\n",
    "\n",
    "In the cell below, complete the code to create the path to the `Datasets` folder. Remember you already have the current path from previous cells."
   ]
  },
  {
   "cell_type": "code",
   "execution_count": 4,
   "metadata": {},
   "outputs": [
    {
     "name": "stdout",
     "output_type": "stream",
     "text": [
      "..\\Datasets\n"
     ]
    }
   ],
   "source": [
    "# Defining the datasets directory path\n",
    "# TODO - Enter the path to the datasets\n",
    "dataset_path = os.path.join(\"..\",\"Datasets\")\n",
    "print(dataset_path)"
   ]
  },
  {
   "cell_type": "markdown",
   "metadata": {},
   "source": [
    "## Opening and Reading one of the text files\n",
    "Let's open the first file (`stories-1.txt`) and read it's content.  <br> We will need to call `read()` on `fp` to read in values from the file. <br> "
   ]
  },
  {
   "cell_type": "code",
   "execution_count": 5,
   "metadata": {},
   "outputs": [
    {
     "name": "stdout",
     "output_type": "stream",
     "text": [
      "..\\Datasets\\story-1.txt\n"
     ]
    }
   ],
   "source": [
    "# TODO - Fill in the stories filename\n",
    "file_path = os.path.join(dataset_path,\"story-1.txt\")\n",
    "\n",
    "print(file_path)"
   ]
  },
  {
   "cell_type": "code",
   "execution_count": 6,
   "metadata": {},
   "outputs": [
    {
     "name": "stdout",
     "output_type": "stream",
     "text": [
      "Content of the file: The Monkey and the Crocodile:\n",
      "\n",
      "Once upon a time, in a forest, there lived a monkey who resided on a jamoon (berry) tree, which was on the banks of a river. In the same forest, there lived a crocodile and his wife. One day, the crocodile came to the banks of the river and rested under the tree. The kindhearted monkey offered him some fruits. The crocodile came back the next day for more fruits, as he loved them. As days passed by, the crocodile and the monkey became good friends.\n",
      "\n",
      "One day, the monkey sent some fruits for the crocodile’s wife. She ate the fruits and liked them, but was jealous, as she didn’t like her husband spending time with the monkey. She told her husband, “If the fruits are so juicy, I wonder how sweet the monkey’s heart would be. Get me the heart of the monkey.” The crocodile was not willing to kill his friend, but had no choice.\n",
      "\n",
      "He invited the monkey to his house for dinner and that his wife would like to meet him. The monkey was happy, but couldn’t swim, so the crocodile took him on his back. The crocodile was happy that he had tricked the monkey, however, while talking, he blurted out the real reason for taking the monkey home. The clever monkey said, “You should have told me earlier, I left my heart on the tree. We must go back and get it.” The crocodile believed him and took him back to the tree. Thus, the clever monkey saved his life.\n",
      "\n"
     ]
    }
   ],
   "source": [
    "# Opening the file\n",
    "# TODO - Fill the way to open the file\n",
    "with open(file_path, \"rt\") as fp:       # mode read text file\n",
    "    # TODO - Fill in the variable that represents the file we are working with\n",
    "    content = fp.read()\n",
    "    # now you should have the content of the file in the variable content\n",
    "print(\"Content of the file:\",content)"
   ]
  },
  {
   "cell_type": "markdown",
   "metadata": {},
   "source": [
    "You may also find some code with try and catch. In our `except` block, we check if any issues occur, and if they do, we print them to the screen. This is used as a way to catch any errors that may occur during the reading of the file.\n",
    "\n",
    "For instance:\n",
    "\n",
    "```python\n",
    "try:\n",
    "    with open(\"a_file.txt\", \"rt\") as fp:\n",
    "        text = fp.read()\n",
    "        print(text) \n",
    "except Exception as e:\n",
    "    print(\"Error reading file:\", e)\n",
    "```\n",
    "\n",
    "Add a `try` and `except` block to the code that you complete in the previous cell to catch any errors that may occur during the reading of the file."
   ]
  },
  {
   "cell_type": "code",
   "execution_count": 7,
   "metadata": {},
   "outputs": [
    {
     "name": "stdout",
     "output_type": "stream",
     "text": [
      "The Monkey and the Crocodile:\n",
      "\n",
      "Once upon a time, in a forest, there lived a monkey who resided on a jamoon (berry) tree, which was on the banks of a river. In the same forest, there lived a crocodile and his wife. One day, the crocodile came to the banks of the river and rested under the tree. The kindhearted monkey offered him some fruits. The crocodile came back the next day for more fruits, as he loved them. As days passed by, the crocodile and the monkey became good friends.\n",
      "\n",
      "One day, the monkey sent some fruits for the crocodile’s wife. She ate the fruits and liked them, but was jealous, as she didn’t like her husband spending time with the monkey. She told her husband, “If the fruits are so juicy, I wonder how sweet the monkey’s heart would be. Get me the heart of the monkey.” The crocodile was not willing to kill his friend, but had no choice.\n",
      "\n",
      "He invited the monkey to his house for dinner and that his wife would like to meet him. The monkey was happy, but couldn’t swim, so the crocodile took him on his back. The crocodile was happy that he had tricked the monkey, however, while talking, he blurted out the real reason for taking the monkey home. The clever monkey said, “You should have told me earlier, I left my heart on the tree. We must go back and get it.” The crocodile believed him and took him back to the tree. Thus, the clever monkey saved his life.\n",
      "\n"
     ]
    }
   ],
   "source": [
    "# TODO - Add a try except block to catch the exception\n",
    "try:\n",
    "    # TODO - Fill in the file name\n",
    "    # Add your previous cell code here\n",
    "    with open(file_path, \"rt\") as fp:       # mode read text file\n",
    "        text = fp.read()\n",
    "        print(text)\n",
    "except Exception as e:\n",
    "    print(\"Error reading file:\", e)"
   ]
  },
  {
   "cell_type": "markdown",
   "metadata": {},
   "source": [
    "## Counting Words\n",
    "Now we can read the file, we want to count the words that we read into the `words` variable. Take a look at the lesons and/or python documentation to find out how to split the text into words. I also suggest you use the `lower()` method to convert all words to lowercase. This way, we can count the words without worrying about the case of the words."
   ]
  },
  {
   "cell_type": "code",
   "execution_count": 8,
   "metadata": {},
   "outputs": [
    {
     "name": "stdout",
     "output_type": "stream",
     "text": [
      "['the', 'monkey', 'and', 'the', 'crocodile:', 'once', 'upon', 'a', 'time,', 'in', 'a', 'forest,', 'there', 'lived', 'a', 'monkey', 'who', 'resided', 'on', 'a', 'jamoon', '(berry)', 'tree,', 'which', 'was', 'on', 'the', 'banks', 'of', 'a', 'river.', 'in', 'the', 'same', 'forest,', 'there', 'lived', 'a', 'crocodile', 'and', 'his', 'wife.', 'one', 'day,', 'the', 'crocodile', 'came', 'to', 'the', 'banks', 'of', 'the', 'river', 'and', 'rested', 'under', 'the', 'tree.', 'the', 'kindhearted', 'monkey', 'offered', 'him', 'some', 'fruits.', 'the', 'crocodile', 'came', 'back', 'the', 'next', 'day', 'for', 'more', 'fruits,', 'as', 'he', 'loved', 'them.', 'as', 'days', 'passed', 'by,', 'the', 'crocodile', 'and', 'the', 'monkey', 'became', 'good', 'friends.', 'one', 'day,', 'the', 'monkey', 'sent', 'some', 'fruits', 'for', 'the', 'crocodile’s', 'wife.', 'she', 'ate', 'the', 'fruits', 'and', 'liked', 'them,', 'but', 'was', 'jealous,', 'as', 'she', 'didn’t', 'like', 'her', 'husband', 'spending', 'time', 'with', 'the', 'monkey.', 'she', 'told', 'her', 'husband,', '“if', 'the', 'fruits', 'are', 'so', 'juicy,', 'i', 'wonder', 'how', 'sweet', 'the', 'monkey’s', 'heart', 'would', 'be.', 'get', 'me', 'the', 'heart', 'of', 'the', 'monkey.”', 'the', 'crocodile', 'was', 'not', 'willing', 'to', 'kill', 'his', 'friend,', 'but', 'had', 'no', 'choice.', 'he', 'invited', 'the', 'monkey', 'to', 'his', 'house', 'for', 'dinner', 'and', 'that', 'his', 'wife', 'would', 'like', 'to', 'meet', 'him.', 'the', 'monkey', 'was', 'happy,', 'but', 'couldn’t', 'swim,', 'so', 'the', 'crocodile', 'took', 'him', 'on', 'his', 'back.', 'the', 'crocodile', 'was', 'happy', 'that', 'he', 'had', 'tricked', 'the', 'monkey,', 'however,', 'while', 'talking,', 'he', 'blurted', 'out', 'the', 'real', 'reason', 'for', 'taking', 'the', 'monkey', 'home.', 'the', 'clever', 'monkey', 'said,', '“you', 'should', 'have', 'told', 'me', 'earlier,', 'i', 'left', 'my', 'heart', 'on', 'the', 'tree.', 'we', 'must', 'go', 'back', 'and', 'get', 'it.”', 'the', 'crocodile', 'believed', 'him', 'and', 'took', 'him', 'back', 'to', 'the', 'tree.', 'thus,', 'the', 'clever', 'monkey', 'saved', 'his', 'life.']\n"
     ]
    }
   ],
   "source": [
    "# TODO - Convert content to lowercase and split it into words\n",
    "lower_content = content.lower()\n",
    "words = list(lower_content.split())     # split amd then convert to list\n",
    "\n",
    "print(words)\n",
    "\n",
    "# The response should be a python list of words like: \"This is a test\" -> ['this', 'is', 'a', 'test']"
   ]
  },
  {
   "cell_type": "markdown",
   "metadata": {},
   "source": [
    "Now create a dictionary and start counting the words by using a for loop. If the word is not in the dictionary, add it with a count of 1. If the word is already in the dictionary, increment the count by 1."
   ]
  },
  {
   "cell_type": "code",
   "execution_count": 9,
   "metadata": {},
   "outputs": [
    {
     "name": "stdout",
     "output_type": "stream",
     "text": [
      "{'the': 34, 'monkey': 10, 'and': 8, 'crocodile:': 1, 'once': 1, 'upon': 1, 'a': 6, 'time,': 1, 'in': 2, 'forest,': 2, 'there': 2, 'lived': 2, 'who': 1, 'resided': 1, 'on': 4, 'jamoon': 1, '(berry)': 1, 'tree,': 1, 'which': 1, 'was': 5, 'banks': 2, 'of': 3, 'river.': 1, 'same': 1, 'crocodile': 8, 'his': 6, 'wife.': 2, 'one': 2, 'day,': 2, 'came': 2, 'to': 5, 'river': 1, 'rested': 1, 'under': 1, 'tree.': 3, 'kindhearted': 1, 'offered': 1, 'him': 4, 'some': 2, 'fruits.': 1, 'back': 3, 'next': 1, 'day': 1, 'for': 4, 'more': 1, 'fruits,': 1, 'as': 3, 'he': 4, 'loved': 1, 'them.': 1, 'days': 1, 'passed': 1, 'by,': 1, 'became': 1, 'good': 1, 'friends.': 1, 'sent': 1, 'fruits': 3, 'crocodile’s': 1, 'she': 3, 'ate': 1, 'liked': 1, 'them,': 1, 'but': 3, 'jealous,': 1, 'didn’t': 1, 'like': 2, 'her': 2, 'husband': 1, 'spending': 1, 'time': 1, 'with': 1, 'monkey.': 1, 'told': 2, 'husband,': 1, '“if': 1, 'are': 1, 'so': 2, 'juicy,': 1, 'i': 2, 'wonder': 1, 'how': 1, 'sweet': 1, 'monkey’s': 1, 'heart': 3, 'would': 2, 'be.': 1, 'get': 2, 'me': 2, 'monkey.”': 1, 'not': 1, 'willing': 1, 'kill': 1, 'friend,': 1, 'had': 2, 'no': 1, 'choice.': 1, 'invited': 1, 'house': 1, 'dinner': 1, 'that': 2, 'wife': 1, 'meet': 1, 'him.': 1, 'happy,': 1, 'couldn’t': 1, 'swim,': 1, 'took': 2, 'back.': 1, 'happy': 1, 'tricked': 1, 'monkey,': 1, 'however,': 1, 'while': 1, 'talking,': 1, 'blurted': 1, 'out': 1, 'real': 1, 'reason': 1, 'taking': 1, 'home.': 1, 'clever': 2, 'said,': 1, '“you': 1, 'should': 1, 'have': 1, 'earlier,': 1, 'left': 1, 'my': 1, 'we': 1, 'must': 1, 'go': 1, 'it.”': 1, 'believed': 1, 'thus,': 1, 'saved': 1, 'life.': 1}\n"
     ]
    }
   ],
   "source": [
    "# Now create a dictionary and start counting the words by using a for loop. If the word is not in the dictionary, add it with a count of 1. If the word is already in the dictionary, increment the count by 1.\n",
    "word_count = {}\n",
    "for word in words:\n",
    "    if word in word_count:\n",
    "        # TODO - Increment the count\n",
    "        word_count[word] += 1\n",
    "    else:\n",
    "        # TODO - Add the word to the dictionary with a count of 1\n",
    "        word_count[word] = 1\n",
    "\n",
    "print(word_count)\n",
    "\n"
   ]
  },
  {
   "cell_type": "markdown",
   "metadata": {},
   "source": [
    "## Repeating the process for all files\n",
    "Now that you have the code to read and count the words in a file, you can repeat this process for all the files. You can create a function that reads a file and returns the word count. Then you can call this function for each file."
   ]
  },
  {
   "cell_type": "markdown",
   "metadata": {},
   "source": [
    "Create a function `count_words_in_file(file_path)` that reads a file and returns a dictionary with the word count. The function should take the file path as an argument.\n",
    "\n",
    "Use your previous codes as a base to create this function. You can copy and paste the code you wrote before into the function."
   ]
  },
  {
   "cell_type": "code",
   "execution_count": 10,
   "metadata": {},
   "outputs": [],
   "source": [
    "def count_words_in_file(file_path):\n",
    "    # TODO - Copy the code from the previous cells here, make sure that file_path \n",
    "    \n",
    "    try:\n",
    "    # TODO - Fill in the file name\n",
    "    # Add your previous cell code here\n",
    "        with open(file_path, \"rt\") as fp:       # mode read text file\n",
    "            content = fp.read()\n",
    "            # print(text) \n",
    "    except Exception as e:\n",
    "        print(\"Error reading file:\", e)\n",
    "\n",
    "    lower_content = content.lower()\n",
    "    words = list(lower_content.split())     # split amd then convert to list\n",
    "    \n",
    "    word_count = {}\n",
    "    for word in words:\n",
    "        if word in word_count:\n",
    "            # TODO - Increment the count\n",
    "            word_count[word] += 1\n",
    "        else:\n",
    "            # TODO - Add the word to the dictionary with a count of 1\n",
    "            word_count[word] = 1\n",
    "\n",
    "    return word_count"
   ]
  },
  {
   "cell_type": "code",
   "execution_count": 11,
   "metadata": {},
   "outputs": [
    {
     "name": "stdout",
     "output_type": "stream",
     "text": [
      "..\\Datasets\\story-1.txt\n",
      "{'the': 34, 'monkey': 10, 'and': 8, 'crocodile:': 1, 'once': 1, 'upon': 1, 'a': 6, 'time,': 1, 'in': 2, 'forest,': 2, 'there': 2, 'lived': 2, 'who': 1, 'resided': 1, 'on': 4, 'jamoon': 1, '(berry)': 1, 'tree,': 1, 'which': 1, 'was': 5, 'banks': 2, 'of': 3, 'river.': 1, 'same': 1, 'crocodile': 8, 'his': 6, 'wife.': 2, 'one': 2, 'day,': 2, 'came': 2, 'to': 5, 'river': 1, 'rested': 1, 'under': 1, 'tree.': 3, 'kindhearted': 1, 'offered': 1, 'him': 4, 'some': 2, 'fruits.': 1, 'back': 3, 'next': 1, 'day': 1, 'for': 4, 'more': 1, 'fruits,': 1, 'as': 3, 'he': 4, 'loved': 1, 'them.': 1, 'days': 1, 'passed': 1, 'by,': 1, 'became': 1, 'good': 1, 'friends.': 1, 'sent': 1, 'fruits': 3, 'crocodile’s': 1, 'she': 3, 'ate': 1, 'liked': 1, 'them,': 1, 'but': 3, 'jealous,': 1, 'didn’t': 1, 'like': 2, 'her': 2, 'husband': 1, 'spending': 1, 'time': 1, 'with': 1, 'monkey.': 1, 'told': 2, 'husband,': 1, '“if': 1, 'are': 1, 'so': 2, 'juicy,': 1, 'i': 2, 'wonder': 1, 'how': 1, 'sweet': 1, 'monkey’s': 1, 'heart': 3, 'would': 2, 'be.': 1, 'get': 2, 'me': 2, 'monkey.”': 1, 'not': 1, 'willing': 1, 'kill': 1, 'friend,': 1, 'had': 2, 'no': 1, 'choice.': 1, 'invited': 1, 'house': 1, 'dinner': 1, 'that': 2, 'wife': 1, 'meet': 1, 'him.': 1, 'happy,': 1, 'couldn’t': 1, 'swim,': 1, 'took': 2, 'back.': 1, 'happy': 1, 'tricked': 1, 'monkey,': 1, 'however,': 1, 'while': 1, 'talking,': 1, 'blurted': 1, 'out': 1, 'real': 1, 'reason': 1, 'taking': 1, 'home.': 1, 'clever': 2, 'said,': 1, '“you': 1, 'should': 1, 'have': 1, 'earlier,': 1, 'left': 1, 'my': 1, 'we': 1, 'must': 1, 'go': 1, 'it.”': 1, 'believed': 1, 'thus,': 1, 'saved': 1, 'life.': 1}\n"
     ]
    }
   ],
   "source": [
    "# Debug function\n",
    "print(file_path)\n",
    "counts_dictionary = count_words_in_file(file_path)\n",
    "print(counts_dictionary)"
   ]
  },
  {
   "cell_type": "markdown",
   "metadata": {},
   "source": [
    "Let's test the function with another story file, like `story-2.txt`."
   ]
  },
  {
   "cell_type": "code",
   "execution_count": 12,
   "metadata": {},
   "outputs": [
    {
     "name": "stdout",
     "output_type": "stream",
     "text": [
      "{'the': 23, 'musical': 1, 'donkey': 8, 'a': 7, 'washer': 1, 'man’s': 1, 'would': 4, 'be': 1, 'free': 1, 'to': 8, 'graze': 1, 'on': 7, 'green': 1, 'field,': 2, 'after': 1, 'hard': 1, 'day’s': 1, 'work.': 1, 'instead': 1, 'of': 2, 'staying': 1, 'he': 4, 'sneak': 1, 'into': 1, 'villagers’': 1, 'farms': 1, 'and': 13, 'eat': 2, 'vegetables': 1, 'growing,': 1, 'before': 1, 'sneaking': 1, 'back': 1, 'home.': 1, 'met': 1, 'jackal,': 1, 'they': 3, 'became': 1, 'good': 1, 'friends.': 1, 'decided': 1, 'hunt': 1, 'together,': 1, 'fat': 1, 'break': 1, 'fence': 1, 'vegetables,': 1, 'while': 1, 'jackal': 5, 'hunted': 1, 'farm': 1, 'animals.': 1, 'one': 1, 'night,': 1, 'told': 1, 'that': 2, 'felt': 1, 'like': 1, 'singing.': 3, 'pleaded': 1, 'with': 1, 'him': 3, 'not': 1, 'sing,': 1, 'as': 3, 'get': 2, 'caught.': 1, 'however,': 1, 'got': 1, 'annoyed': 1, 'insisted': 1, 'opened': 1, 'his': 2, 'mouth': 1, 'began': 1, 'bray': 1, 'loudly,': 1, 'immediately': 1, 'ran': 1, 'away.': 1, 'farmers,': 1, 'hearing': 1, 'bray,': 1, 'came': 1, 'rushing': 1, 'out': 2, 'thrashed': 1, 'for': 4, 'eating': 1, 'their': 3, 'vegetables.': 1, 'farmers': 2, 'tied': 1, 'mortar': 1, 'donkey,': 1, 'walked': 1, 'home,': 1, 'joked': 1, 'about': 1, 'gifting': 1, 'necklace': 1, 'moral': 2, 'story:': 1, 'there': 1, 'is': 1, 'time': 1, 'place': 1, 'everything.': 1, 'you': 1, 'can': 4, 'narrate': 1, 'these': 4, 'panchatantra': 2, 'stories': 3, 'explain': 1, 'values': 1, 'children.': 1, 'example,': 1, 'discipline,': 1, 'friendship,': 1, 'strength,': 1, 'intelligence': 1, 'other': 2, 'virtues,': 1, 'make': 1, 'children': 1, 'understand': 1, 'what': 1, 'morals': 1, 'stand': 1, 'for,': 1, 'impact': 1, 'daily': 1, 'lives.': 1, 'also': 1, 'help': 1, 'in': 1, 'your': 3, 'child’s': 2, 'linguistic': 1, 'cognitive': 1, 'development.': 1, 'further': 1, 'develop': 1, 'qualities,': 1, 'kid’s': 1, 'activity': 1, 'subscription': 1, 'kit': 1, 'contains': 1, 'fun': 1, 'interesting': 1, 'activities.': 1, 'by': 1, 'trying': 1, 'activities,': 1, 'child': 1, 'enhance': 1, 'his/her': 1, 'skills': 1, 'well.': 1}\n"
     ]
    }
   ],
   "source": [
    "# You should be able to test your function by running the following code:\n",
    "file_path = os.path.join(dataset_path, \"story-2.txt\")\n",
    "counts_dictionary = count_words_in_file(file_path)\n",
    "print(counts_dictionary)"
   ]
  },
  {
   "cell_type": "markdown",
   "metadata": {},
   "source": [
    "We can now create a list of the files names to individually loop through. <br> Notice stories is a `list`, as it is assigned to values enclosed by brackets (`[]`)."
   ]
  },
  {
   "cell_type": "code",
   "execution_count": 13,
   "metadata": {},
   "outputs": [],
   "source": [
    "# List of files names to read in the same directory\n",
    "# TODO - Enter the file names inside the list\n",
    "stories = [\"story-1.txt\", \"story-2.txt\", \"story-3.txt\", \"story-4.txt\"]"
   ]
  },
  {
   "cell_type": "markdown",
   "metadata": {},
   "source": [
    "Let's now loop through the list of files and call the function `count_words_in_file` for each file. We will store the result in a list of dictionaries called `word_counts`."
   ]
  },
  {
   "cell_type": "code",
   "execution_count": 14,
   "metadata": {},
   "outputs": [
    {
     "name": "stdout",
     "output_type": "stream",
     "text": [
      "[{'the': 34, 'monkey': 10, 'and': 8, 'crocodile:': 1, 'once': 1, 'upon': 1, 'a': 6, 'time,': 1, 'in': 2, 'forest,': 2, 'there': 2, 'lived': 2, 'who': 1, 'resided': 1, 'on': 4, 'jamoon': 1, '(berry)': 1, 'tree,': 1, 'which': 1, 'was': 5, 'banks': 2, 'of': 3, 'river.': 1, 'same': 1, 'crocodile': 8, 'his': 6, 'wife.': 2, 'one': 2, 'day,': 2, 'came': 2, 'to': 5, 'river': 1, 'rested': 1, 'under': 1, 'tree.': 3, 'kindhearted': 1, 'offered': 1, 'him': 4, 'some': 2, 'fruits.': 1, 'back': 3, 'next': 1, 'day': 1, 'for': 4, 'more': 1, 'fruits,': 1, 'as': 3, 'he': 4, 'loved': 1, 'them.': 1, 'days': 1, 'passed': 1, 'by,': 1, 'became': 1, 'good': 1, 'friends.': 1, 'sent': 1, 'fruits': 3, 'crocodile’s': 1, 'she': 3, 'ate': 1, 'liked': 1, 'them,': 1, 'but': 3, 'jealous,': 1, 'didn’t': 1, 'like': 2, 'her': 2, 'husband': 1, 'spending': 1, 'time': 1, 'with': 1, 'monkey.': 1, 'told': 2, 'husband,': 1, '“if': 1, 'are': 1, 'so': 2, 'juicy,': 1, 'i': 2, 'wonder': 1, 'how': 1, 'sweet': 1, 'monkey’s': 1, 'heart': 3, 'would': 2, 'be.': 1, 'get': 2, 'me': 2, 'monkey.”': 1, 'not': 1, 'willing': 1, 'kill': 1, 'friend,': 1, 'had': 2, 'no': 1, 'choice.': 1, 'invited': 1, 'house': 1, 'dinner': 1, 'that': 2, 'wife': 1, 'meet': 1, 'him.': 1, 'happy,': 1, 'couldn’t': 1, 'swim,': 1, 'took': 2, 'back.': 1, 'happy': 1, 'tricked': 1, 'monkey,': 1, 'however,': 1, 'while': 1, 'talking,': 1, 'blurted': 1, 'out': 1, 'real': 1, 'reason': 1, 'taking': 1, 'home.': 1, 'clever': 2, 'said,': 1, '“you': 1, 'should': 1, 'have': 1, 'earlier,': 1, 'left': 1, 'my': 1, 'we': 1, 'must': 1, 'go': 1, 'it.”': 1, 'believed': 1, 'thus,': 1, 'saved': 1, 'life.': 1}, {'the': 23, 'musical': 1, 'donkey': 8, 'a': 7, 'washer': 1, 'man’s': 1, 'would': 4, 'be': 1, 'free': 1, 'to': 8, 'graze': 1, 'on': 7, 'green': 1, 'field,': 2, 'after': 1, 'hard': 1, 'day’s': 1, 'work.': 1, 'instead': 1, 'of': 2, 'staying': 1, 'he': 4, 'sneak': 1, 'into': 1, 'villagers’': 1, 'farms': 1, 'and': 13, 'eat': 2, 'vegetables': 1, 'growing,': 1, 'before': 1, 'sneaking': 1, 'back': 1, 'home.': 1, 'met': 1, 'jackal,': 1, 'they': 3, 'became': 1, 'good': 1, 'friends.': 1, 'decided': 1, 'hunt': 1, 'together,': 1, 'fat': 1, 'break': 1, 'fence': 1, 'vegetables,': 1, 'while': 1, 'jackal': 5, 'hunted': 1, 'farm': 1, 'animals.': 1, 'one': 1, 'night,': 1, 'told': 1, 'that': 2, 'felt': 1, 'like': 1, 'singing.': 3, 'pleaded': 1, 'with': 1, 'him': 3, 'not': 1, 'sing,': 1, 'as': 3, 'get': 2, 'caught.': 1, 'however,': 1, 'got': 1, 'annoyed': 1, 'insisted': 1, 'opened': 1, 'his': 2, 'mouth': 1, 'began': 1, 'bray': 1, 'loudly,': 1, 'immediately': 1, 'ran': 1, 'away.': 1, 'farmers,': 1, 'hearing': 1, 'bray,': 1, 'came': 1, 'rushing': 1, 'out': 2, 'thrashed': 1, 'for': 4, 'eating': 1, 'their': 3, 'vegetables.': 1, 'farmers': 2, 'tied': 1, 'mortar': 1, 'donkey,': 1, 'walked': 1, 'home,': 1, 'joked': 1, 'about': 1, 'gifting': 1, 'necklace': 1, 'moral': 2, 'story:': 1, 'there': 1, 'is': 1, 'time': 1, 'place': 1, 'everything.': 1, 'you': 1, 'can': 4, 'narrate': 1, 'these': 4, 'panchatantra': 2, 'stories': 3, 'explain': 1, 'values': 1, 'children.': 1, 'example,': 1, 'discipline,': 1, 'friendship,': 1, 'strength,': 1, 'intelligence': 1, 'other': 2, 'virtues,': 1, 'make': 1, 'children': 1, 'understand': 1, 'what': 1, 'morals': 1, 'stand': 1, 'for,': 1, 'impact': 1, 'daily': 1, 'lives.': 1, 'also': 1, 'help': 1, 'in': 1, 'your': 3, 'child’s': 2, 'linguistic': 1, 'cognitive': 1, 'development.': 1, 'further': 1, 'develop': 1, 'qualities,': 1, 'kid’s': 1, 'activity': 1, 'subscription': 1, 'kit': 1, 'contains': 1, 'fun': 1, 'interesting': 1, 'activities.': 1, 'by': 1, 'trying': 1, 'activities,': 1, 'child': 1, 'enhance': 1, 'his/her': 1, 'skills': 1, 'well.': 1}, {'a': 4, 'tale': 1, 'of': 4, 'three': 2, 'fish': 8, 'in': 2, 'lake,': 1, 'there': 1, 'were': 2, 'who': 1, 'great': 1, 'friends.': 1, 'the': 16, 'first': 3, 'was': 2, 'very': 1, 'smart,': 1, 'second': 3, 'one': 3, 'knew': 1, 'how': 1, 'to': 6, 'find': 2, 'his': 2, 'way': 2, 'out': 3, 'trouble,': 1, 'and': 9, 'third': 3, 'adamant': 1, 'hated': 1, 'changes.': 1, 'overheard': 1, 'fisherman’s': 1, 'conversation': 1, 'about': 1, 'coming': 1, 'back': 1, 'next': 2, 'day': 1, 'fishing': 1, 'lake.': 2, 'sensing': 1, 'danger,': 1, 'he': 1, 'cautioned': 1, 'friends': 1, 'move': 2, 'said,': 2, '“i': 2, 'will': 2, 'stay': 1, 'here': 1, 'if': 2, 'i’m': 1, 'caught.”': 1, 'do': 1, 'not': 1, 'want': 1, 'out.': 2, 'i': 3, 'remain': 1, 'here,': 1, 'have': 1, 'get': 1, 'caught,': 1, 'will.”': 1, 'moved': 1, 'day,': 1, 'fisherman': 1, 'arrived': 1, 'caught': 2, 'other': 1, 'two': 1, 'fish.': 1, 'cleverly': 1, 'escaped': 1, 'by': 1, 'pretending': 1, 'be': 2, 'dead.': 1, 'did': 1, 'nothing': 1, 'got': 1, 'died.': 1, 'moral': 1, 'story:': 1, 'should': 1, 'always': 1, 'open': 1, 'change': 1, 'adapt': 1, 'accordingly.': 1, 'take': 1, 'immediate': 1, 'action': 1, 'when': 1, 'you': 1, 'sense': 1, 'danger.': 1}, {'the': 27, 'foolish': 1, 'lion': 9, 'and': 8, 'clever': 1, 'rabbit': 6, 'once': 1, 'upon': 1, 'a': 3, 'time,': 1, 'there': 1, 'lived': 1, 'greedy': 1, 'who': 1, 'attacked': 2, 'killed': 1, 'animals,': 1, 'because': 1, 'of': 4, 'which': 1, 'every': 1, 'animal': 2, 'in': 2, 'jungle': 1, 'was': 4, 'very': 1, 'afraid': 1, 'him.': 1, 'one': 2, 'day,': 2, 'they': 2, 'decided': 2, 'that': 2, 'each': 1, 'would': 1, 'go': 1, 'to': 9, 'lion,': 2, 'per': 1, 'as': 2, 'his': 4, 'prey.': 1, 'agreed.': 1, 'when': 1, 'it': 1, 'rabbit’s': 1, 'turn,': 1, 'send': 1, 'wise': 3, 'old': 2, 'one.': 2, 'he': 2, 'travelled': 1, 'slowly': 1, 'reached': 1, 'lion’s': 1, 'den': 1, 'before': 1, 'sunset.': 1, 'furiously': 1, 'asked': 2, 'him,': 1, '“why': 1, 'are': 1, 'you': 1, 'so': 1, 'late?”': 1, 'answered,': 1, '”a': 1, 'group': 1, 'rabbits': 1, 'were': 2, 'coming': 1, 'you,': 1, 'but': 1, 'on': 2, 'their': 1, 'way,': 1, 'others': 1, 'by': 1, 'another': 1, 'ferocious': 1, 'lion.': 2, 'i': 1, 'managed': 1, 'escape': 1, 'came': 1, 'here.”': 1, 'also': 1, 'mentioned': 1, 'other': 2, 'challenging': 1, 'this': 2, 'extremely': 1, 'angry': 1, 'take': 1, 'him': 2, 'meet': 1, 'new': 1, 'took': 1, 'deep': 1, 'well,': 1, 'showed': 1, 'own': 1, 'reflection.': 1, 'growled,': 1, 'reflection': 2, 'did': 1, 'same.': 1, 'considered': 1, 'be': 1, 'enemy.': 1, 'enraged': 1, 'jumped': 1, 'into': 1, 'well': 1, 'attack': 1, 'ended': 1, 'up': 1, 'dying.': 1, 'thus,': 1, 'saved': 1, 'himself,': 1, 'all': 1, 'animals': 1, 'forest.': 1, 'moral': 1, 'story:': 1, 'must': 1, 'always': 1, 'focus': 1, 'solutions,': 1, 'rather': 1, 'than': 1, 'problems.': 1}]\n"
     ]
    }
   ],
   "source": [
    "word_counts = []\n",
    "\n",
    "for story in stories:\n",
    "    # TODO - Fill in the file path\n",
    "    file_path = os.path.join(dataset_path, story)\n",
    "    # TODO - Call the function count_words_in_file with the file_path\n",
    "    word_count = count_words_in_file(file_path)\n",
    "    # TODO - Append the result to the word_counts list\n",
    "    word_counts.append(word_count)\n",
    "\n",
    "print(word_counts)"
   ]
  },
  {
   "cell_type": "code",
   "execution_count": 15,
   "metadata": {},
   "outputs": [
    {
     "name": "stdout",
     "output_type": "stream",
     "text": [
      "{'the': 34, 'monkey': 10, 'and': 8, 'crocodile:': 1, 'once': 1, 'upon': 1, 'a': 6, 'time,': 1, 'in': 2, 'forest,': 2, 'there': 2, 'lived': 2, 'who': 1, 'resided': 1, 'on': 4, 'jamoon': 1, '(berry)': 1, 'tree,': 1, 'which': 1, 'was': 5, 'banks': 2, 'of': 3, 'river.': 1, 'same': 1, 'crocodile': 8, 'his': 6, 'wife.': 2, 'one': 2, 'day,': 2, 'came': 2, 'to': 5, 'river': 1, 'rested': 1, 'under': 1, 'tree.': 3, 'kindhearted': 1, 'offered': 1, 'him': 4, 'some': 2, 'fruits.': 1, 'back': 3, 'next': 1, 'day': 1, 'for': 4, 'more': 1, 'fruits,': 1, 'as': 3, 'he': 4, 'loved': 1, 'them.': 1, 'days': 1, 'passed': 1, 'by,': 1, 'became': 1, 'good': 1, 'friends.': 1, 'sent': 1, 'fruits': 3, 'crocodile’s': 1, 'she': 3, 'ate': 1, 'liked': 1, 'them,': 1, 'but': 3, 'jealous,': 1, 'didn’t': 1, 'like': 2, 'her': 2, 'husband': 1, 'spending': 1, 'time': 1, 'with': 1, 'monkey.': 1, 'told': 2, 'husband,': 1, '“if': 1, 'are': 1, 'so': 2, 'juicy,': 1, 'i': 2, 'wonder': 1, 'how': 1, 'sweet': 1, 'monkey’s': 1, 'heart': 3, 'would': 2, 'be.': 1, 'get': 2, 'me': 2, 'monkey.”': 1, 'not': 1, 'willing': 1, 'kill': 1, 'friend,': 1, 'had': 2, 'no': 1, 'choice.': 1, 'invited': 1, 'house': 1, 'dinner': 1, 'that': 2, 'wife': 1, 'meet': 1, 'him.': 1, 'happy,': 1, 'couldn’t': 1, 'swim,': 1, 'took': 2, 'back.': 1, 'happy': 1, 'tricked': 1, 'monkey,': 1, 'however,': 1, 'while': 1, 'talking,': 1, 'blurted': 1, 'out': 1, 'real': 1, 'reason': 1, 'taking': 1, 'home.': 1, 'clever': 2, 'said,': 1, '“you': 1, 'should': 1, 'have': 1, 'earlier,': 1, 'left': 1, 'my': 1, 'we': 1, 'must': 1, 'go': 1, 'it.”': 1, 'believed': 1, 'thus,': 1, 'saved': 1, 'life.': 1} \n",
      "\n",
      "{'the': 23, 'musical': 1, 'donkey': 8, 'a': 7, 'washer': 1, 'man’s': 1, 'would': 4, 'be': 1, 'free': 1, 'to': 8, 'graze': 1, 'on': 7, 'green': 1, 'field,': 2, 'after': 1, 'hard': 1, 'day’s': 1, 'work.': 1, 'instead': 1, 'of': 2, 'staying': 1, 'he': 4, 'sneak': 1, 'into': 1, 'villagers’': 1, 'farms': 1, 'and': 13, 'eat': 2, 'vegetables': 1, 'growing,': 1, 'before': 1, 'sneaking': 1, 'back': 1, 'home.': 1, 'met': 1, 'jackal,': 1, 'they': 3, 'became': 1, 'good': 1, 'friends.': 1, 'decided': 1, 'hunt': 1, 'together,': 1, 'fat': 1, 'break': 1, 'fence': 1, 'vegetables,': 1, 'while': 1, 'jackal': 5, 'hunted': 1, 'farm': 1, 'animals.': 1, 'one': 1, 'night,': 1, 'told': 1, 'that': 2, 'felt': 1, 'like': 1, 'singing.': 3, 'pleaded': 1, 'with': 1, 'him': 3, 'not': 1, 'sing,': 1, 'as': 3, 'get': 2, 'caught.': 1, 'however,': 1, 'got': 1, 'annoyed': 1, 'insisted': 1, 'opened': 1, 'his': 2, 'mouth': 1, 'began': 1, 'bray': 1, 'loudly,': 1, 'immediately': 1, 'ran': 1, 'away.': 1, 'farmers,': 1, 'hearing': 1, 'bray,': 1, 'came': 1, 'rushing': 1, 'out': 2, 'thrashed': 1, 'for': 4, 'eating': 1, 'their': 3, 'vegetables.': 1, 'farmers': 2, 'tied': 1, 'mortar': 1, 'donkey,': 1, 'walked': 1, 'home,': 1, 'joked': 1, 'about': 1, 'gifting': 1, 'necklace': 1, 'moral': 2, 'story:': 1, 'there': 1, 'is': 1, 'time': 1, 'place': 1, 'everything.': 1, 'you': 1, 'can': 4, 'narrate': 1, 'these': 4, 'panchatantra': 2, 'stories': 3, 'explain': 1, 'values': 1, 'children.': 1, 'example,': 1, 'discipline,': 1, 'friendship,': 1, 'strength,': 1, 'intelligence': 1, 'other': 2, 'virtues,': 1, 'make': 1, 'children': 1, 'understand': 1, 'what': 1, 'morals': 1, 'stand': 1, 'for,': 1, 'impact': 1, 'daily': 1, 'lives.': 1, 'also': 1, 'help': 1, 'in': 1, 'your': 3, 'child’s': 2, 'linguistic': 1, 'cognitive': 1, 'development.': 1, 'further': 1, 'develop': 1, 'qualities,': 1, 'kid’s': 1, 'activity': 1, 'subscription': 1, 'kit': 1, 'contains': 1, 'fun': 1, 'interesting': 1, 'activities.': 1, 'by': 1, 'trying': 1, 'activities,': 1, 'child': 1, 'enhance': 1, 'his/her': 1, 'skills': 1, 'well.': 1} \n",
      "\n",
      "{'a': 4, 'tale': 1, 'of': 4, 'three': 2, 'fish': 8, 'in': 2, 'lake,': 1, 'there': 1, 'were': 2, 'who': 1, 'great': 1, 'friends.': 1, 'the': 16, 'first': 3, 'was': 2, 'very': 1, 'smart,': 1, 'second': 3, 'one': 3, 'knew': 1, 'how': 1, 'to': 6, 'find': 2, 'his': 2, 'way': 2, 'out': 3, 'trouble,': 1, 'and': 9, 'third': 3, 'adamant': 1, 'hated': 1, 'changes.': 1, 'overheard': 1, 'fisherman’s': 1, 'conversation': 1, 'about': 1, 'coming': 1, 'back': 1, 'next': 2, 'day': 1, 'fishing': 1, 'lake.': 2, 'sensing': 1, 'danger,': 1, 'he': 1, 'cautioned': 1, 'friends': 1, 'move': 2, 'said,': 2, '“i': 2, 'will': 2, 'stay': 1, 'here': 1, 'if': 2, 'i’m': 1, 'caught.”': 1, 'do': 1, 'not': 1, 'want': 1, 'out.': 2, 'i': 3, 'remain': 1, 'here,': 1, 'have': 1, 'get': 1, 'caught,': 1, 'will.”': 1, 'moved': 1, 'day,': 1, 'fisherman': 1, 'arrived': 1, 'caught': 2, 'other': 1, 'two': 1, 'fish.': 1, 'cleverly': 1, 'escaped': 1, 'by': 1, 'pretending': 1, 'be': 2, 'dead.': 1, 'did': 1, 'nothing': 1, 'got': 1, 'died.': 1, 'moral': 1, 'story:': 1, 'should': 1, 'always': 1, 'open': 1, 'change': 1, 'adapt': 1, 'accordingly.': 1, 'take': 1, 'immediate': 1, 'action': 1, 'when': 1, 'you': 1, 'sense': 1, 'danger.': 1} \n",
      "\n",
      "{'the': 27, 'foolish': 1, 'lion': 9, 'and': 8, 'clever': 1, 'rabbit': 6, 'once': 1, 'upon': 1, 'a': 3, 'time,': 1, 'there': 1, 'lived': 1, 'greedy': 1, 'who': 1, 'attacked': 2, 'killed': 1, 'animals,': 1, 'because': 1, 'of': 4, 'which': 1, 'every': 1, 'animal': 2, 'in': 2, 'jungle': 1, 'was': 4, 'very': 1, 'afraid': 1, 'him.': 1, 'one': 2, 'day,': 2, 'they': 2, 'decided': 2, 'that': 2, 'each': 1, 'would': 1, 'go': 1, 'to': 9, 'lion,': 2, 'per': 1, 'as': 2, 'his': 4, 'prey.': 1, 'agreed.': 1, 'when': 1, 'it': 1, 'rabbit’s': 1, 'turn,': 1, 'send': 1, 'wise': 3, 'old': 2, 'one.': 2, 'he': 2, 'travelled': 1, 'slowly': 1, 'reached': 1, 'lion’s': 1, 'den': 1, 'before': 1, 'sunset.': 1, 'furiously': 1, 'asked': 2, 'him,': 1, '“why': 1, 'are': 1, 'you': 1, 'so': 1, 'late?”': 1, 'answered,': 1, '”a': 1, 'group': 1, 'rabbits': 1, 'were': 2, 'coming': 1, 'you,': 1, 'but': 1, 'on': 2, 'their': 1, 'way,': 1, 'others': 1, 'by': 1, 'another': 1, 'ferocious': 1, 'lion.': 2, 'i': 1, 'managed': 1, 'escape': 1, 'came': 1, 'here.”': 1, 'also': 1, 'mentioned': 1, 'other': 2, 'challenging': 1, 'this': 2, 'extremely': 1, 'angry': 1, 'take': 1, 'him': 2, 'meet': 1, 'new': 1, 'took': 1, 'deep': 1, 'well,': 1, 'showed': 1, 'own': 1, 'reflection.': 1, 'growled,': 1, 'reflection': 2, 'did': 1, 'same.': 1, 'considered': 1, 'be': 1, 'enemy.': 1, 'enraged': 1, 'jumped': 1, 'into': 1, 'well': 1, 'attack': 1, 'ended': 1, 'up': 1, 'dying.': 1, 'thus,': 1, 'saved': 1, 'himself,': 1, 'all': 1, 'animals': 1, 'forest.': 1, 'moral': 1, 'story:': 1, 'must': 1, 'always': 1, 'focus': 1, 'solutions,': 1, 'rather': 1, 'than': 1, 'problems.': 1} \n",
      "\n"
     ]
    }
   ],
   "source": [
    "# Debug\n",
    "for i in range(len(word_counts)):\n",
    "    print(word_counts[i],\"\\n\")"
   ]
  },
  {
   "cell_type": "markdown",
   "metadata": {},
   "source": [
    "And there you have it! Submit the completed version of this assignment for points. Save the notebook as a PDF or HTML file and submit it via Canvas. Keep the output of the code cells visible in the exported file."
   ]
  }
 ],
 "metadata": {
  "kernelspec": {
   "display_name": "usableai",
   "language": "python",
   "name": "python3"
  },
  "language_info": {
   "codemirror_mode": {
    "name": "ipython",
    "version": 3
   },
   "file_extension": ".py",
   "mimetype": "text/x-python",
   "name": "python",
   "nbconvert_exporter": "python",
   "pygments_lexer": "ipython3",
   "version": "3.11.11"
  }
 },
 "nbformat": 4,
 "nbformat_minor": 4
}
