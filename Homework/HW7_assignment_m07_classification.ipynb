{
 "cells": [
  {
   "cell_type": "markdown",
   "id": "whole-female",
   "metadata": {},
   "source": [
    "# Homework 7 - Classification\n",
    "In this assignment, we will be applying some basic classification methods to the soccer database (found on canvas). We will first need to import all the libraries required for this guide.\n",
    "\n",
    "## Instructions\n",
    "In this assignment, you will be performing the specified classification methods in Python.\n",
    "\n",
    "---\n",
    "\n",
    "### Step 1: Load Data\n",
    "\n",
    "- Load the following attributes from `Player_Attributes`:\n",
    "  - `gk_reflexes`\n",
    "  - `gk_kicking`\n",
    "  - `gk_handling`\n",
    "\n",
    "These values will be used for classification.\n",
    "\n",
    "---\n",
    "\n",
    "### Step 2: Classification (Part 1)\n",
    "\n",
    "- Use `gk_reflexes` and `gk_kicking`.\n",
    "- Choose one of the attributes as the **target attribute**.\n",
    "- Generate **five classes** in the target property by reducing the range of values in the target data.\n",
    "- Split the data into **training** and **testing** sets.\n",
    "- Apply the following methods and print the resulting `accuracy_score` from `sklearn.metrics`:\n",
    "  - Logistic Regression\n",
    "  - Support Vector Machine (SVM)\n",
    "  - Decision Tree\n",
    "  - K-Nearest Neighbors (KNN)\n",
    "\n",
    "---\n",
    "\n",
    "### Step 3: Classification (Part 2)\n",
    "\n",
    "- Repeat **Step 2**, this time using:\n",
    "  - `gk_kicking` and `gk_handling`\n",
    "\n",
    "- Again, print the corresponding `accuracy_score` for each classification method.\n",
    "\n",
    "---\n",
    "\n",
    "### Step 4: Analysis (Comment in Python file)\n",
    "\n",
    "Answer the following question as a **comment** in your Python file:\n",
    "\n",
    "> Since this assignment (Classification) and the previous assignment (Regression) are with the same data, can you compare and conclude which technique is yielding best results?\n",
    "\n",
    "---\n",
    "\n",
    "### Dataset Overview\n",
    "The dataset covers information about soccer players in sqlite format. This file is located in the `Datasets` directory of this repository. The file is called `fifa_soccer_dataset.sqlite.gz`. **This is the same file from the previous homework (assignment 4).**\n",
    "\n",
    "If you haven't decompressed the file, you may need to follow the instructions below to decompress it.\n",
    "\n",
    "**IMPORTANT** The database is compressed and needs to be decompressed before use. You can do this by running the following command in your terminal on Linux or MacOS:\n",
    "\n",
    "```bash\n",
    "gunzip Datasets/fifa_soccer_dataset.sqlite.gz\n",
    "```\n",
    "\n",
    "If you are using Windows, you can use the following command in your powershell:\n",
    "\n",
    "```powershell\n",
    "$sourceFile = \"$PWD\\Datasets\\fifa_soccer_dataset.sqlite.gz\"\n",
    "$destinationFile = \"$PWD\\Datasets\\fifa_soccer_dataset.sqlite\"\n",
    "\n",
    "$inputStream = [System.IO.File]::OpenRead($sourceFile)\n",
    "$outputStream = [System.IO.File]::Create($destinationFile)\n",
    "$gzipStream = New-Object System.IO.Compression.GzipStream($inputStream, [System.IO.Compression.CompressionMode]::Decompress)\n",
    "$gzipStream.CopyTo($outputStream)\n",
    "\n",
    "$gzipStream.Close()\n",
    "$outputStream.Close()\n",
    "$inputStream.Close()\n",
    "```\n",
    "\n",
    "Alternatively, you can extract the file using the GUI of your operating system.\n",
    "\n",
    "\n",
    "### Submission Guidelines\n",
    "\n",
    "- Submit your completed notebook as a HTML export, or a PDF file.\n",
    "\n",
    "To export to HTML, if you are on Jupyter, select `File` > `Export Notebook As` > `HTML`.\n",
    "\n",
    "If you are on VSCode, you can use the `Jupyter: Export to HTML` command.\n",
    " - Open the command palette (Ctrl+Shift+P or Cmd+Shift+P on Mac).\n",
    "     - Search for `Jupyter: Export to HTML`.\n",
    "     - Save the HTML file to your computer and submit it via Canvas.\n",
    "\n",
    "---\n"
   ]
  },
  {
   "cell_type": "code",
   "execution_count": 1,
   "id": "committed-enzyme",
   "metadata": {},
   "outputs": [
    {
     "name": "stdout",
     "output_type": "stream",
     "text": [
      "c:\\Ricardo\\2025-02 SP25 USABLE ARTIFICIAL INTELLIGENCE\\GitHub\\usable_ai\\Homework\n"
     ]
    }
   ],
   "source": [
    "import pandas as pd\n",
    "import sqlite3\n",
    "from sklearn.model_selection import train_test_split\n",
    "from sklearn.preprocessing import StandardScaler\n",
    "from sklearn.linear_model import LogisticRegression\n",
    "from sklearn.metrics import accuracy_score\n",
    "from sklearn.svm import SVC\n",
    "from sklearn.neighbors import KNeighborsClassifier\n",
    "\n",
    "import os\n",
    "\n",
    "# Local directory\n",
    "print(os.getcwd())\n"
   ]
  },
  {
   "cell_type": "markdown",
   "id": "advisory-abortion",
   "metadata": {},
   "source": [
    "To start this assignment, we first need to connect to the sqlite database, do so below."
   ]
  },
  {
   "cell_type": "code",
   "execution_count": 3,
   "id": "binding-chorus",
   "metadata": {},
   "outputs": [],
   "source": [
    "# Input Code Here\n",
    "dataset_path = \"../Database/fifa_soccer_dataset.sqlite\" # Fix your path accordingly\n",
    "\n",
    "# Your Code Here\n",
    "conn = sqlite3.connect(dataset_path)"
   ]
  },
  {
   "cell_type": "markdown",
   "id": "naked-lawyer",
   "metadata": {},
   "source": [
    "Now connected, let's grab required attributes for the scenario from the `Player_Attributes`(Using gk_reflexes and gk_kicking) table."
   ]
  },
  {
   "cell_type": "code",
   "execution_count": 6,
   "id": "terminal-college",
   "metadata": {},
   "outputs": [
    {
     "data": {
      "text/html": [
       "<div>\n",
       "<style scoped>\n",
       "    .dataframe tbody tr th:only-of-type {\n",
       "        vertical-align: middle;\n",
       "    }\n",
       "\n",
       "    .dataframe tbody tr th {\n",
       "        vertical-align: top;\n",
       "    }\n",
       "\n",
       "    .dataframe thead th {\n",
       "        text-align: right;\n",
       "    }\n",
       "</style>\n",
       "<table border=\"1\" class=\"dataframe\">\n",
       "  <thead>\n",
       "    <tr style=\"text-align: right;\">\n",
       "      <th></th>\n",
       "      <th>gk_reflexes</th>\n",
       "      <th>gk_kicking</th>\n",
       "      <th>gk_handling</th>\n",
       "    </tr>\n",
       "  </thead>\n",
       "  <tbody>\n",
       "    <tr>\n",
       "      <th>0</th>\n",
       "      <td>8.0</td>\n",
       "      <td>10.0</td>\n",
       "      <td>11.0</td>\n",
       "    </tr>\n",
       "    <tr>\n",
       "      <th>1</th>\n",
       "      <td>8.0</td>\n",
       "      <td>10.0</td>\n",
       "      <td>11.0</td>\n",
       "    </tr>\n",
       "    <tr>\n",
       "      <th>2</th>\n",
       "      <td>8.0</td>\n",
       "      <td>10.0</td>\n",
       "      <td>11.0</td>\n",
       "    </tr>\n",
       "    <tr>\n",
       "      <th>3</th>\n",
       "      <td>7.0</td>\n",
       "      <td>9.0</td>\n",
       "      <td>10.0</td>\n",
       "    </tr>\n",
       "    <tr>\n",
       "      <th>4</th>\n",
       "      <td>7.0</td>\n",
       "      <td>9.0</td>\n",
       "      <td>10.0</td>\n",
       "    </tr>\n",
       "  </tbody>\n",
       "</table>\n",
       "</div>"
      ],
      "text/plain": [
       "   gk_reflexes  gk_kicking  gk_handling\n",
       "0          8.0        10.0         11.0\n",
       "1          8.0        10.0         11.0\n",
       "2          8.0        10.0         11.0\n",
       "3          7.0         9.0         10.0\n",
       "4          7.0         9.0         10.0"
      ]
     },
     "execution_count": 6,
     "metadata": {},
     "output_type": "execute_result"
    }
   ],
   "source": [
    "# Your Code Here\n",
    "\n",
    "player_attr_df = pd.read_sql(\"SELECT gk_reflexes, gk_kicking, gk_handling FROM Player_Attributes;\", conn)\n",
    "\n",
    "player_attr_df.head()"
   ]
  },
  {
   "cell_type": "markdown",
   "id": "08d1060b",
   "metadata": {},
   "source": [
    "Droping the rows with are having missing values"
   ]
  },
  {
   "cell_type": "code",
   "execution_count": 18,
   "id": "83ac42b2",
   "metadata": {},
   "outputs": [
    {
     "name": "stdout",
     "output_type": "stream",
     "text": [
      "Before Missing values:\n",
      " gk_reflexes    836\n",
      "gk_kicking     836\n",
      "gk_handling    836\n",
      "dtype: int64\n",
      "\n",
      "Before shape: (183978, 3)\n",
      "\n",
      "After Missing values:\n",
      " gk_reflexes    0\n",
      "gk_kicking     0\n",
      "gk_handling    0\n",
      "dtype: int64\n",
      "\n",
      "After shape: (183142, 3)\n"
     ]
    }
   ],
   "source": [
    " # Your Code Here\n",
    "\n",
    "print('Before Missing values:\\n', player_attr_df.isna().sum())\n",
    "print('\\nBefore shape:', player_attr_df.shape)\n",
    "\n",
    "player_attr_df = player_attr_df.dropna(subset=['gk_handling', 'gk_reflexes', 'gk_kicking'])\n",
    "\n",
    "print('\\nAfter Missing values:\\n', player_attr_df.isna().sum())\n",
    "print('\\nAfter shape:', player_attr_df.shape)"
   ]
  },
  {
   "cell_type": "markdown",
   "id": "individual-insurance",
   "metadata": {},
   "source": [
    "For this classifying, we'll be using the ` gk_reflexes` and `gk_kicking`. Pull these values into `x` and `y`."
   ]
  },
  {
   "cell_type": "code",
   "execution_count": 19,
   "id": "alternate-appendix",
   "metadata": {},
   "outputs": [],
   "source": [
    "x = player_attr_df[['gk_reflexes']].values # Your Code Here\n",
    "y = player_attr_df[['gk_kicking']].values # Your Code Here"
   ]
  },
  {
   "cell_type": "markdown",
   "id": "4a87d92f",
   "metadata": {},
   "source": [
    "the target variable should be reduced to just 5 classes. "
   ]
  },
  {
   "cell_type": "code",
   "execution_count": null,
   "id": "4888323e",
   "metadata": {},
   "outputs": [],
   "source": [
    "x_classes =  pd.cut(player_attr_df['gk_reflexes'], bins=5, labels=['Class 1', 'Class 2', 'Class 3', 'Class 4', 'Class 5'])"
   ]
  },
  {
   "cell_type": "markdown",
   "id": "brazilian-attribute",
   "metadata": {},
   "source": [
    "Let's split the data set into test and training sets using the `train_test_split()` function. We'll want to transform our `x` variable, which can be done by calling the `transform()` function."
   ]
  },
  {
   "cell_type": "code",
   "execution_count": null,
   "id": "fancy-geometry",
   "metadata": {},
   "outputs": [],
   "source": [
    "X_train, X_test, y_train, y_test=  # Your Code Here\n",
    "sc= StandardScaler()\n",
    "sc.fit(X_train)\n",
    "X_train_std= sc._(X_train) # Your Code Here\n",
    "X_test_std= sc._(X_test) # Your Code Here"
   ]
  },
  {
   "cell_type": "markdown",
   "id": "bright-census",
   "metadata": {},
   "source": [
    "To preform a logistic regression, we'll use the `LogisticRegression()` function. This may take a couple moments to run."
   ]
  },
  {
   "cell_type": "code",
   "execution_count": null,
   "id": "tribal-option",
   "metadata": {},
   "outputs": [],
   "source": [
    "lr= _(C=1000.0, random_state=0,max_iter=1000) #Your Code Here\n",
    "lr.fit(X_train_std, y_train.ravel())\n",
    "y_pred= lr.predict(X_test_std)\n",
    "\n",
    "print(f'Accuracy: {accuracy_score(y_test, y_pred)}')"
   ]
  },
  {
   "cell_type": "markdown",
   "id": "verbal-ordering",
   "metadata": {},
   "source": [
    "Great! Let's try applying SVM instead. Try using `SVC()` below, then use the same prediction and output methods as the above cell."
   ]
  },
  {
   "cell_type": "code",
   "execution_count": null,
   "id": "monetary-ottawa",
   "metadata": {},
   "outputs": [],
   "source": [
    "svm= _(kernel='linear', C=1.0, random_state=0, cache_size=7000) # Your Code Here\n",
    "svm.fit(X_train_std, y_train.ravel())\n",
    "y_pred = # Your Prediction Code Here\n",
    "\n",
    "print(f'Accuracy: {accuracy_score(y_test, y_pred)}')"
   ]
  },
  {
   "cell_type": "markdown",
   "id": "respective-little",
   "metadata": {},
   "source": [
    "Let's try using a KNeightbors Classifier. We can call the `KNeighborsClassifier()` function, and supply 2 parameters: `n_neighbors=5` and `matric='euclidean`. Once you run this method, display the accuracy of your model as you did in the above cells."
   ]
  },
  {
   "cell_type": "code",
   "execution_count": null,
   "id": "secret-notice",
   "metadata": {},
   "outputs": [],
   "source": [
    "knn= # Your Code here\n",
    "\n",
    "#Your Code to fit the model here\n",
    "\n",
    "y_pred= # Your Prediction Code Here\n",
    "\n",
    "# Your Accuracy Output Code Here"
   ]
  },
  {
   "cell_type": "markdown",
   "id": "93b43ca7",
   "metadata": {},
   "source": [
    "let's repeat the above steps agian with gk_kicking and gk_handling."
   ]
  },
  {
   "cell_type": "code",
   "execution_count": null,
   "id": "b2d3c83c",
   "metadata": {},
   "outputs": [],
   "source": [
    " # Your Code Here"
   ]
  },
  {
   "cell_type": "markdown",
   "id": "muslim-price",
   "metadata": {},
   "source": [
    "Lastly, in the cell below, answer the question:\n",
    "Since this assignment (Classification) and the previous assignment (Regression) are with the same data, can you compare and conclude which technique is yielding best results?"
   ]
  },
  {
   "cell_type": "code",
   "execution_count": null,
   "id": "referenced-satisfaction",
   "metadata": {},
   "outputs": [],
   "source": [
    "#Your Answer Here"
   ]
  }
 ],
 "metadata": {
  "kernelspec": {
   "display_name": "Python 3",
   "language": "python",
   "name": "python3"
  },
  "language_info": {
   "codemirror_mode": {
    "name": "ipython",
    "version": 3
   },
   "file_extension": ".py",
   "mimetype": "text/x-python",
   "name": "python",
   "nbconvert_exporter": "python",
   "pygments_lexer": "ipython3",
   "version": "3.11.9"
  }
 },
 "nbformat": 4,
 "nbformat_minor": 5
}
