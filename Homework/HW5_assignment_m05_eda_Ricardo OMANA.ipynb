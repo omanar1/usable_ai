{
 "cells": [
  {
   "cell_type": "markdown",
   "metadata": {},
   "source": [
    "# Homework 5: Exploratory Data Analysis (EDA)\n",
    "In this assignment, you are going to perform exploratory data analysis (EDA) on a small dataset of your choice. You can choose any dataset you like, but you are encouraged to pick a dataset that you are interested in. You can use the datasets you have used in the previous assignments or you can choose a new dataset. If you don't have a dataset in mind, you can choose one from the datasets in the `Datasets` folder of the course repository.\n",
    "\n",
    "### Instructions\n",
    "\n",
    "1. Follow the instructions on how to setup your Python and Jupyter (or VSCode) environment and cloning or downloading our repository. Instructions can be found in the class notes:\n",
    "   https://filipinascimento.github.io/usable_ai/m00-setup/class\n",
    "2. Ensure that you have Python and Jupyter Notebook working. (You can also try using Google Colab. This is not the preferred method for this homework, but it is an option)\n",
    "3. Load the dataset of your choice into a Pandas dataframe\n",
    "4. Perform exploratory data analysis (EDA) on the dataset. Your analysis should include the following:\n",
    "    - Summary statistics of the dataset\n",
    "    - Data cleaning and preprocessing\n",
    "    - Data visualization (e.g., histograms, scatterplots, etc.)\n",
    "    - You should write a brief summary of the insights and conclusions you have drawn from your analysis.\n",
    "    You can use the [exploratory_data_analysis.ipynb](notebook) as a reference.\n",
    "5. **Important**: Create both code and markdown cells in your notebook to document your analysis.\n",
    "6. Submit your completed notebook as a HTML export, or a PDF file.\n",
    "\n",
    "### Submission Guidelines\n",
    "\n",
    "- Submit your completed notebook as a HTML export, or a PDF file.\n",
    "\n",
    "To export to HTML, if you are on Jupyter, select `File` > `Export Notebook As` > `HTML`.\n",
    "\n",
    "If you are on VSCode, you can use the `Jupyter: Export to HTML` command.\n",
    " - Open the command palette (Ctrl+Shift+P or Cmd+Shift+P on Mac).\n",
    "    - Search for `Jupyter: Export to HTML`.\n",
    "    - Save the HTML file to your computer and submit it via Canvas.\n",
    "\n",
    "---\n",
    "\n",
    "> \n",
    "> **Using Generative AI Responsibly**\n",
    ">\n",
    "> You're welcome to use Generative AI to assist your learning, but focus on understanding the concepts rather than just solving the assignment. For example, instead of copying and pasting the question into the model, ask it to explain the concept in the question. Try asking: `How can I open a file in Python? Can you give me examples?` or `What functions and methods can I use to extract the words of a text file? Can you explain how they work with some examples?`\n",
    ">\n",
    "> This way, you will learn how the solution works while building your skills. Remember to give context to the generative AI, so it can better assist you. Talk to the instructor and AIs if you have any questions or need insights."
   ]
  },
  {
   "cell_type": "markdown",
   "metadata": {},
   "source": [
    "Create your cells below this one. Hint: start by imporint the necessary libraries and loading your dataset."
   ]
  },
  {
   "cell_type": "markdown",
   "metadata": {},
   "source": [
    "___\n",
    "### Source dataset\n",
    "\n",
    "Took data from **FormulaAI Hackathon 2022** for the first theme about creating an accurate weather prediction model for the F1 2021 video game.\n",
    "The data is given in two formats CSV and JSON. I took the CSV as it is faster to process in my PC (size 716 MB).\n",
    "\n",
    "``[1]`` https://www.kaggle.com/datasets/oracledevrel/formulaaihackathon2022\n",
    "\n",
    "``[2]`` https://github.com/oracle-devrel/formula-ai-2022-hackathon\n",
    "\n",
    "``[3]`` https://blogs.oracle.com/developers/post/formulaai-hackathon-2022\n",
    "\n",
    "---"
   ]
  },
  {
   "cell_type": "markdown",
   "metadata": {},
   "source": [
    "### Load the dataset of your choice into a Pandas dataframe"
   ]
  },
  {
   "cell_type": "code",
   "execution_count": null,
   "metadata": {},
   "outputs": [],
   "source": [
    "# Load modules needed\n",
    "from tqdm.auto import tqdm\n",
    "import numpy as np\n",
    "import pandas as pd\n",
    "import matplotlib.pyplot as plt\n",
    "from scipy import stats\n",
    "import seaborn as sns\n",
    "import os\n",
    "\n",
    "# Local directory\n",
    "print(os.getcwd())"
   ]
  },
  {
   "cell_type": "markdown",
   "metadata": {
    "vscode": {
     "languageId": "plaintext"
    }
   },
   "source": [
    "### Perform exploratory data analysis (EDA) on the dataset."
   ]
  },
  {
   "cell_type": "code",
   "execution_count": null,
   "metadata": {},
   "outputs": [],
   "source": [
    "df_weather = pd.read_csv(\"../Datasets/weather.csv\")\n",
    "df_weather.head()"
   ]
  },
  {
   "cell_type": "code",
   "execution_count": null,
   "metadata": {},
   "outputs": [],
   "source": [
    "# Data types\n",
    "df_weather.info()"
   ]
  },
  {
   "cell_type": "markdown",
   "metadata": {},
   "source": [
    "### Reference of columns data types and adding definition per ```[2]```\n",
    "\n",
    "  | Pos | Column | Type | Definition [2] |\n",
    "  |---|---|---|---|\n",
    " 0   |M_PACKET_FORMAT                                 |int64  |Header \n",
    " 1   |M_GAME_MAJOR_VERSION                            |int64  |Game major version - \"X.00\"\n",
    " 2   |M_GAME_MINOR_VERSION                            |int64  |Game minor version - \"1.XX\"\n",
    " 3   |M_PACKET_VERSION                                |int64  |Version of this packet type, all start from 1\n",
    " 4   |M_PACKET_ID                                     |int64  |Identifier for the packet type\n",
    " 5   |M_SESSION_UID                                   |float64|Unique identifier for the session\n",
    " 6   |M_SESSION_TIME                                  |float64|Session timestamp\n",
    " 7   |M_FRAME_IDENTIFIER                              |int64  |Identifier for the frame the data was retrieved on\n",
    " 8   |M_PLAYER_CAR_INDEX                              |int64  |Index of player's car in the array\n",
    " 9   |M_SECONDARY_PLAYER_CAR_INDEX                    |int64  |Index of secondary player's car in the array (split screen); 255 if no second player\n",
    " 10  |M_BRAKING_ASSIST                                |int64  |0 = off, 1 = low, 2 = medium, 3 = high\n",
    " 11  |M_SESSION_LINK_IDENTIFIER                       |int64  |Identifier for season - persists across saves\n",
    " 12  |M_PIT_RELEASE_ASSIST                            |int64  |0 = off, 1 = on\n",
    " 13  |TIMESTAMP                                       |float64|timestamp for when the packet was received\n",
    " 14  |M_ZONE_START                                    |float64|Fraction (0..1) of way through the lap the marshal zone starts\n",
    " 15  |M_ZONE_FLAG                                     |float64|-1 = invalid/unknown, 0 = none, 1 = green, 2 = blue, 3 = yellow, 4 = red\n",
    " 16  |M_PIT_STOP_WINDOW_IDEAL_LAP                     |int64  |Ideal lap to pit on for current strategy (player)\n",
    " 17  |M_TRACK_TEMPERATURE                             |int64  |Track temp. in degrees Celsius\n",
    " 18  |M_TRACK_LENGTH                                  |int64  |Track length in metres\n",
    " 19  |M_GAME_PAUSED                                   |int64  |Whether the game is paused\n",
    " 20  |M_FORECAST_ACCURACY                             |int64  |0 = Perfect, 1 = Approximate - The accuracy is a configurable in-game setting.\n",
    " 21  |GAMEHOST                                        |object |unique identifier for the host that captured the data (not relevant) \n",
    " 22  |M_AIR_TEMPERATURE                               |int64  |Air temp. in degrees celsius \n",
    " 23  |M_NUM_WEATHER_FORECAST_SAMPLES                  |int64  |Array of weather forecast samples\n",
    " 24  |M_SLI_PRO_NATIVE_SUPPORT                        |int64  |SLI Pro support, 0 = inactive, 1 = active. This refers to external LED devices like the Leo Bodnar SLI Pro and Fanatec steering wheels, which can display telemetry data from the F1 game.\n",
    " 25  |M_SAFETY_CAR_STATUS                             |int64  |0 = no safety car, 1 = full, 2 = virtual, 3 = formation lap\n",
    " 26  |M_TRACK_ID                                      |int64  |-1 for unknown, 0-21 for tracks\n",
    " 27  |M_ERSASSIST                                     |int64  |0 = off, 1 = on\n",
    " 28  |M_FORMULA                                       |int64  |Formula, 0 = F1 Modern, 1 = F1 Classic, 2 = F2, 3 = F1 Generic \n",
    " 29  |M_SEASON_LINK_IDENTIFIER                        |int64  |Identifier for season - persists across saves\n",
    " 30  |M_PIT_ASSIST                                    |int64  |0 = off, 1 = on\n",
    " 31  |M_GEARBOX_ASSIST                                |int64  |1 = manual, 2 = manual & suggested gear, 3 = auto\n",
    " 32  |M_SESSION_TYPE                                  |int64  |0 = unknown, 1 = P1, 2 = P2, 3 = P3, 4 = Short P, 5 = Q1, 6 = Q2, 7 = Q3, 8 = Short Q, 9 = OSQ, 10 = R, 11 = R2, 12 = Time Trial\n",
    " 33  |M_SPECTATOR_CAR_INDEX                           |int64  |Index of the car being spectated\n",
    " 34  |M_PIT_STOP_WINDOW_LATEST_LAP                    |int64  |Latest lap to pit on for current strategy (player)\n",
    " 35  |M_WEEKEND_LINK_IDENTIFIER                       |int64  |Identifier for weekend - persists across saves\n",
    " 36  |M_DYNAMIC_RACING_LINE_TYPE                      |int64  |0 = 2D, 1 = 3D\n",
    " 37  |M_SESSION_TIME_LEFT                             |int64  |Time left in session in seconds\n",
    " 38  |M_SESSION_DURATION                              |int64  |Session duration in seconds\n",
    " 39  |M_PIT_STOP_REJOIN_POSITION                      |int64  |Predicted position to rejoin at (player)\n",
    " 40  |M_WEATHER_FORECAST_SAMPLES_M_SESSION_TYPE       |float64|0 = unknown, 1 = P1, 2 = P2, 3 = P3, 4 = Short P, 5 = Q1, 6 = Q2, 7 = Q3, 8 = Short Q, 9 = OSQ, 10 = R, 11 = R2, 12 = Time Trial\n",
    " 41  |M_TIME_OFFSET                                   |float64|Time in minutes the forecast is for\n",
    " 42  |M_WEATHER_FORECAST_SAMPLES_M_WEATHER            |float64|Weather - 0 = clear, 1 = light cloud, 2 = overcast, 3 = light rain, 4 = heavy rain, 5 = storm\n",
    " 43  |M_WEATHER_FORECAST_SAMPLES_M_TRACK_TEMPERATURE  |float64|Track temp. in degrees Celsius\n",
    " 44  |M_TRACK_TEMPERATURE_CHANGE                      |float64|Track temp. change – 0 = up, 1 = down, 2 = no change\n",
    " 45  |M_WEATHER_FORECAST_SAMPLES_M_AIR_TEMPERATURE    |float64|Air temp. in degrees celsius\n",
    " 46  |M_AIR_TEMPERATURE_CHANGE                        |float64|Rain percentage (0-100)\n",
    " 47  |M_RAIN_PERCENTAGE                               |float64|Rain percentage (0-100)\n",
    " 48  |M_WEATHER                                       |int64  |Weather - 0 = clear, 1 = light cloud, 2 = overcast, 3 = light rain, 4 = heavy rain, 5 = storm\n",
    " 49  |M_AI_DIFFICULTY                                 |int64  |AI Difficulty rating – 0-110\n",
    " 50  |M_PIT_SPEED_LIMIT                               |int64  |Pit speed limit in kilometres per hour\n",
    " 51  |M_NETWORK_GAME                                  |float64|0 = offline, 1 = online\n",
    " 52  |M_TOTAL_LAPS                                    |float64|Total number of laps in this race\n",
    " 53  |M_STEERING_ASSIST                               |float64|0 = off, 1 = on\n",
    " 54  |M_IS_SPECTATING                                 |float64|Whether the player is spectating\n",
    " 55  |M_DYNAMIC_RACING_LINE                           |float64|0 = off, 1 = corners only, 2 = full\n",
    " 56  |M_DRSASSIST                                     |float64|0 = off, 1 = on\n",
    " 57  |M_NUM_MARSHAL_ZONES                             |float64|Number of marshal zones to follow\n",
    " 58  |Unnamed: 58                                     |float64|?"
   ]
  },
  {
   "cell_type": "code",
   "execution_count": null,
   "metadata": {},
   "outputs": [],
   "source": [
    "# Rows x Cols\n",
    "df_weather.shape"
   ]
  },
  {
   "cell_type": "markdown",
   "metadata": {
    "vscode": {
     "languageId": "plaintext"
    }
   },
   "source": [
    "### Summary statistics of the dataset"
   ]
  },
  {
   "cell_type": "code",
   "execution_count": null,
   "metadata": {},
   "outputs": [],
   "source": [
    "df_weather.describe().transpose()"
   ]
  },
  {
   "cell_type": "markdown",
   "metadata": {
    "vscode": {
     "languageId": "plaintext"
    }
   },
   "source": [
    "### Data cleaning and preprocessing"
   ]
  },
  {
   "cell_type": "code",
   "execution_count": null,
   "metadata": {},
   "outputs": [],
   "source": [
    "# Check for duplicated rows\n",
    "duplicates = df_weather[df_weather.duplicated()]\n",
    "\n",
    "display(duplicates.shape)\n",
    "display(df_weather.shape)\n"
   ]
  },
  {
   "cell_type": "code",
   "execution_count": null,
   "metadata": {},
   "outputs": [],
   "source": [
    "# Will start reviewing the columns that are likely irrelevant, e.g. same value.\n",
    "# For that will use those with standard deviation zero (from summary stats above) as possible list:\n",
    "# M_PACKET_FORMAT\n",
    "# M_GAME_MAJOR_VERSION\n",
    "# M_PACKET_VERSION\n",
    "# M_PACKET_ID\n",
    "# M_SECONDARY_PLAYER_CAR_INDEX\n",
    "# M_SLI_PRO_NATIVE_SUPPORT\n",
    "# M_SAFETY_CAR_STATUS\n",
    "\n",
    "\n",
    "# Will keep an array of the columns to drop\n",
    "columns_to_drop = []\n",
    "\n",
    "display(df_weather['M_PACKET_FORMAT'].describe().transpose())\n",
    "display(df_weather['M_PACKET_FORMAT'].unique())"
   ]
  },
  {
   "cell_type": "code",
   "execution_count": null,
   "metadata": {},
   "outputs": [],
   "source": [
    "# This one can be drop because it is constant no matter the observation\n",
    "columns_to_drop.append('M_PACKET_FORMAT')\n",
    "\n",
    "# Continue with next column\n",
    "display(df_weather['M_GAME_MAJOR_VERSION'].describe().transpose())\n",
    "display(df_weather['M_GAME_MAJOR_VERSION'].unique())"
   ]
  },
  {
   "cell_type": "code",
   "execution_count": null,
   "metadata": {},
   "outputs": [],
   "source": [
    "# This one can be drop because it is constant no matter the observation\n",
    "columns_to_drop.append('M_GAME_MAJOR_VERSION')\n",
    "\n",
    "# Continue with next column\n",
    "display(df_weather['M_PACKET_VERSION'].describe().transpose())\n",
    "display(df_weather['M_PACKET_VERSION'].unique())"
   ]
  },
  {
   "cell_type": "code",
   "execution_count": null,
   "metadata": {},
   "outputs": [],
   "source": [
    "# This one can be drop because it is constant no matter the observation\n",
    "columns_to_drop.append('M_PACKET_VERSION')\n",
    "\n",
    "# Continue with next column\n",
    "display(df_weather['M_PACKET_ID'].describe().transpose())\n",
    "display(df_weather['M_PACKET_ID'].unique())"
   ]
  },
  {
   "cell_type": "code",
   "execution_count": null,
   "metadata": {},
   "outputs": [],
   "source": [
    "# This one can be drop because it is constant no matter the observation\n",
    "columns_to_drop.append('M_PACKET_ID')\n",
    "\n",
    "# Continue with next column\n",
    "display(df_weather['M_SECONDARY_PLAYER_CAR_INDEX'].describe().transpose())\n",
    "display(df_weather['M_SECONDARY_PLAYER_CAR_INDEX'].unique())"
   ]
  },
  {
   "cell_type": "code",
   "execution_count": null,
   "metadata": {},
   "outputs": [],
   "source": [
    "# This one can be drop because it is constant no matter the observation\n",
    "columns_to_drop.append('M_SECONDARY_PLAYER_CAR_INDEX')\n",
    "\n",
    "# Continue with next column\n",
    "display(df_weather['M_SLI_PRO_NATIVE_SUPPORT'].describe().transpose())\n",
    "display(df_weather['M_SLI_PRO_NATIVE_SUPPORT'].unique())"
   ]
  },
  {
   "cell_type": "code",
   "execution_count": null,
   "metadata": {},
   "outputs": [],
   "source": [
    "# This one can be drop because it is constant no matter the observation\n",
    "columns_to_drop.append('M_SLI_PRO_NATIVE_SUPPORT')\n",
    "\n",
    "# Continue with next column\n",
    "display(df_weather['M_SAFETY_CAR_STATUS'].describe().transpose())\n",
    "display(df_weather['M_SAFETY_CAR_STATUS'].unique())"
   ]
  },
  {
   "cell_type": "code",
   "execution_count": null,
   "metadata": {},
   "outputs": [],
   "source": [
    "# This one can be drop because it is constant no matter the observation\n",
    "columns_to_drop.append('M_SAFETY_CAR_STATUS')"
   ]
  },
  {
   "cell_type": "code",
   "execution_count": null,
   "metadata": {},
   "outputs": [],
   "source": [
    "# Last columns 'Unnamed: 58' has zero count so that one can be dropped as well\n",
    "df_weather = df_weather.drop(columns=['Unnamed: 58'])"
   ]
  },
  {
   "cell_type": "code",
   "execution_count": null,
   "metadata": {},
   "outputs": [],
   "source": [
    "# Look at the columns will less observations\n",
    "df_weather.count().sort_values(ascending=True)"
   ]
  },
  {
   "cell_type": "markdown",
   "metadata": {},
   "source": [
    "The are some columns with less than 3572328 rows and for those some action could be needed if any of those columns is used later\n",
    "E.g. as part of modelling.\n",
    "\n",
    "For now, will just list columns - but no action will be done.\n",
    "\n",
    "|Column| Count|\n",
    "|---|---|\n",
    "|M_ZONE_START                                      | 974274\n",
    "|M_ZONE_FLAG                                       | 974274\n",
    "|M_WEATHER_FORECAST_SAMPLES_M_AIR_TEMPERATURE      |2598054\n",
    "|M_WEATHER_FORECAST_SAMPLES_M_SESSION_TYPE         |2598054\n",
    "|M_TIME_OFFSET                                     |2598054\n",
    "|M_WEATHER_FORECAST_SAMPLES_M_WEATHER              |2598054\n",
    "|M_WEATHER_FORECAST_SAMPLES_M_TRACK_TEMPERATURE    |2598054\n",
    "|M_TRACK_TEMPERATURE_CHANGE                        |2598054\n",
    "|M_AIR_TEMPERATURE_CHANGE                          |2598054\n",
    "|M_RAIN_PERCENTAGE                                 |2598054\n",
    "|GAMEHOST                                          |2663112\n",
    "\n",
    "With 3572327 observations:\n",
    "|Column|Column|Column|\n",
    "|---|---|---|\n",
    "|M_DRSASSIST              |M_NUM_MARSHAL_ZONES\t|M_NETWORK_GAME                                    \n",
    "|M_TOTAL_LAPS             |M_STEERING_ASSIST    |M_IS_SPECTATING                                   \n",
    "|M_DYNAMIC_RACING_LINE    |M_AI_DIFFICULTY               |M_PIT_SPEED_LIMIT                                 \n",
    "|M_PIT_STOP_REJOIN_POSITION   |M_SESSION_DURATION        |M_SESSION_TIME_LEFT                               \n",
    "|M_DYNAMIC_RACING_LINE_TYPE   |M_WEEKEND_LINK_IDENTIFIER |M_WEATHER                                         \n",
    "|M_PIT_STOP_WINDOW_LATEST_LAP |M_GAME_MINOR_VERSION      |M_GEARBOX_ASSIST                                  \n",
    "|M_SESSION_UID                |M_SESSION_TIME            |M_FRAME_IDENTIFIER                                \n",
    "|M_PLAYER_CAR_INDEX           |M_BRAKING_ASSIST          |M_SESSION_LINK_IDENTIFIER                         \n",
    "|M_PIT_RELEASE_ASSIST         |TIMESTAMP                 |M_PIT_STOP_WINDOW_IDEAL_LAP                       \n",
    "|M_SPECTATOR_CAR_INDEX        |M_TRACK_TEMPERATURE       |M_GAME_PAUSED                                     \n",
    "|M_FORECAST_ACCURACY          |M_AIR_TEMPERATURE         |M_NUM_WEATHER_FORECAST_SAMPLES                    \n",
    "|M_TRACK_ID                   |M_ERSASSIST               |M_FORMULA                                         \n",
    "|M_SEASON_LINK_IDENTIFIER     |M_PIT_ASSIST              |M_TRACK_LENGTH                                    \n",
    "|M_SESSION_TYPE"
   ]
  },
  {
   "cell_type": "code",
   "execution_count": null,
   "metadata": {},
   "outputs": [],
   "source": []
  },
  {
   "cell_type": "markdown",
   "metadata": {
    "vscode": {
     "languageId": "plaintext"
    }
   },
   "source": [
    "### Data visualization (e.g., histograms, scatterplots, etc.)\n",
    "- You should write a brief summary of the insights and conclusions you have drawn from your analysis."
   ]
  },
  {
   "cell_type": "markdown",
   "metadata": {},
   "source": [
    "|Item|Insights|\n",
    "|---|---|\n",
    "|M_WEATHER|- 74.59% of data points under clear weather.<br/>- No data for categories: 3(light rain) and 4 (heavy rain).<br/>- Ordinal data as categories has an explicit order, so important to consider for future analysis.\n",
    "|M_AIR_TEMPERATURE |- Integer values, instead of continuous as you may expect.<br/>- When plotting histogram  |\n"
   ]
  },
  {
   "cell_type": "code",
   "execution_count": null,
   "metadata": {},
   "outputs": [],
   "source": [
    "#### Will check that the data aligns with the definition of some categorical columns\n",
    "# M_WEATHER should be 0 = clear, 1 = light cloud, 2 = overcast, 3 = light rain, 4 = heavy rain, 5 = storm\n",
    "\n",
    "# Get unique values and sort them\n",
    "unique_values = np.sort(df_weather['M_WEATHER'].unique())\n",
    "print(\"M_WEATHER - categories found:\", unique_values)\n",
    "\n",
    "# Define category mapping\n",
    "category_mapping = {\n",
    "        0: \"0-Clear\",\n",
    "        1: \"1-Light Cloud\",\n",
    "        2: \"2-Overcast\",\n",
    "        3: \"3-Light Rain\",\n",
    "        4: \"4-Heavy Rain\",\n",
    "        5: \"5-Storm\"\n",
    "    }\n",
    "\n",
    "fig = plt.figure(figsize=(5, 3))\n",
    "# plt.hist(df_weather['M_WEATHER'],bins=100)\n",
    "# will use bars as it is more clear for a column that is categorical\n",
    "ax = df_weather['M_WEATHER'].value_counts().sort_index().plot(kind='bar')\n",
    "plt.xlabel('M_WEATHER')\n",
    "plt.ylabel('Frequency')\n",
    "plt.title('Histogram of M_WEATHER')\n",
    "\n",
    "# Debugging: Get the x-tick labels text \n",
    "xticks = ax.get_xticklabels()\n",
    "# for tick in xticks:\n",
    "#    print(tick.get_text())\n",
    "\n",
    "# Create a list of labels using the category mapping\n",
    "xticklabels = [category_mapping[int(tick.get_text())] for tick in xticks]\n",
    "\n",
    "# Set the x-tick labels\n",
    "ax.set_xticklabels(xticklabels)\n",
    "\n",
    "# Rotate the labels for better readability\n",
    "plt.xticks(rotation=45)\n",
    "\n",
    "# Add count labels on top of each bar\n",
    "for p in ax.patches:\n",
    "    ax.annotate(str(p.get_height()), (p.get_x() + p.get_width() / 2., p.get_height()),\n",
    "                ha='center', va='center', xytext=(0, 5), textcoords='offset points')\n",
    "\n",
    "plt.tight_layout()\n",
    "plt.show()\n"
   ]
  },
  {
   "cell_type": "code",
   "execution_count": null,
   "metadata": {},
   "outputs": [],
   "source": [
    "# Apply the category mapping to the 'M_WEATHER' column\n",
    "df_weather['M_WEATHER_LABEL'] = df_weather['M_WEATHER'].map(category_mapping)\n",
    "\n",
    "# Create a frequency table with counts and percentages\n",
    "frequency_table = df_weather['M_WEATHER_LABEL'].value_counts().reset_index()\n",
    "\n",
    "# Rename columns for clarity\n",
    "frequency_table.columns = ['M_WEATHER', 'Count']\n",
    "\n",
    "# Add a percentage column\n",
    "frequency_table['Percentage'] = (frequency_table['Count'] / len(df_weather[\"M_WEATHER\"])) * 100\n",
    "\n",
    "# Round the percentage values for readability\n",
    "frequency_table['Percentage'] = frequency_table['Percentage'].round(2)\n",
    "\n",
    "# Display the frequency table\n",
    "display(frequency_table)\n"
   ]
  },
  {
   "cell_type": "code",
   "execution_count": null,
   "metadata": {},
   "outputs": [],
   "source": [
    "# M_AIR_TEMPERATURE in C\n",
    "\n",
    "# Get unique values and sort them\n",
    "unique_values = np.sort(df_weather['M_AIR_TEMPERATURE'].unique())\n",
    "print(\"M_AIR_TEMPERATURE - values found:\", unique_values)\n",
    "\n",
    "\n",
    "fig = plt.figure(figsize=(5, 3))\n",
    "plt.hist(df_weather['M_AIR_TEMPERATURE'],bins=100)\n",
    "plt.xlabel('M_AIR_TEMPERATURE (in $^\\circ$C)')\n",
    "plt.ylabel('Frequency')\n",
    "plt.title('Histogram of M_AIR_TEMPERATURE')\n",
    "\n",
    "plt.tight_layout()\n",
    "plt.show()"
   ]
  },
  {
   "cell_type": "code",
   "execution_count": null,
   "metadata": {},
   "outputs": [],
   "source": [
    "df_weather[\"M_AIR_TEMPERATURE\"].describe().round(3)"
   ]
  },
  {
   "cell_type": "code",
   "execution_count": null,
   "metadata": {},
   "outputs": [],
   "source": [
    "fig = plt.figure(figsize=(5, 3))\n",
    "for weather, group in df_weather.groupby('M_WEATHER_LABEL'):\n",
    "    plt.hist(group['M_AIR_TEMPERATURE'], bins=10, alpha=0.5, label=weather)\n",
    "plt.xlabel('M_AIR_TEMPERATURE ($^\\circ$C)')\n",
    "plt.ylabel('Frequency')\n",
    "plt.title('Histogram of M_AIR_TEMPERATURE')\n",
    "plt.legend()\n",
    "plt.tight_layout()\n",
    "plt.show()"
   ]
  },
  {
   "cell_type": "code",
   "execution_count": null,
   "metadata": {},
   "outputs": [],
   "source": [
    "\n",
    "# Generate a list of colors (you can choose any colormap here)\n",
    "colors = plt.cm.viridis(np.linspace(0, 1, len(df_weather['M_WEATHER_LABEL'].unique())))\n",
    "\n",
    "# Create a figure with subplots\n",
    "fig, axes = plt.subplots(nrows=len(df_weather['M_WEATHER_LABEL'].unique()), ncols=1, figsize=(5, 3 * len(df_weather['M_WEATHER_LABEL'].unique())))\n",
    "\n",
    "# Flatten axes if there are multiple subplots\n",
    "axes = axes.flatten()\n",
    "\n",
    "# Plot each group in a separate subplot\n",
    "for i, (weather, group) in enumerate(df_weather.groupby('M_WEATHER_LABEL')):\n",
    "    axes[i].hist(group['M_AIR_TEMPERATURE'], bins=10, alpha=0.7, color=colors[i])\n",
    "    axes[i].set_xlabel('M_AIR_TEMPERATURE ($^\\circ$C)')\n",
    "    axes[i].set_ylabel('Frequency')\n",
    "    axes[i].set_title(f'Histogram of M_AIR_TEMPERATURE ({weather})')\n",
    "\n",
    "# Adjust layout for better display\n",
    "plt.tight_layout()\n",
    "plt.show()"
   ]
  },
  {
   "cell_type": "code",
   "execution_count": null,
   "metadata": {},
   "outputs": [],
   "source": [
    "# Generate a list of colors\n",
    "colors = plt.cm.viridis(np.linspace(0, 1, len(df_weather['M_WEATHER_LABEL'].unique())))\n",
    "\n",
    "# Create a figure with subplots\n",
    "fig, axes = plt.subplots(nrows=len(df_weather['M_WEATHER_LABEL'].unique()), ncols=1, figsize=(5, 3 * len(df_weather['M_WEATHER_LABEL'].unique())))\n",
    "\n",
    "# Flatten axes if there are multiple subplots\n",
    "axes = axes.flatten()\n",
    "\n",
    "# Plot each group in a separate subplot\n",
    "for i, (weather, group) in enumerate(df_weather.groupby('M_WEATHER_LABEL')):\n",
    "    axes[i].hist(group['M_AIR_TEMPERATURE'], bins=10, alpha=0.5, color=colors[i])\n",
    "    axes[i].set_xlabel('M_AIR_TEMPERATURE ($^\\circ$C)')\n",
    "    axes[i].set_ylabel('Frequency')\n",
    "    axes[i].set_title(f'Histogram of M_AIR_TEMPERATURE ({weather})')\n",
    "\n",
    "# Adjust layout for better display\n",
    "plt.tight_layout()\n",
    "plt.show()"
   ]
  },
  {
   "cell_type": "code",
   "execution_count": null,
   "metadata": {},
   "outputs": [],
   "source": []
  },
  {
   "cell_type": "code",
   "execution_count": null,
   "metadata": {},
   "outputs": [],
   "source": []
  },
  {
   "cell_type": "code",
   "execution_count": null,
   "metadata": {},
   "outputs": [],
   "source": []
  },
  {
   "cell_type": "code",
   "execution_count": null,
   "metadata": {},
   "outputs": [],
   "source": []
  },
  {
   "cell_type": "code",
   "execution_count": null,
   "metadata": {},
   "outputs": [],
   "source": []
  },
  {
   "cell_type": "code",
   "execution_count": null,
   "metadata": {},
   "outputs": [],
   "source": []
  },
  {
   "cell_type": "code",
   "execution_count": null,
   "metadata": {},
   "outputs": [],
   "source": []
  },
  {
   "cell_type": "code",
   "execution_count": null,
   "metadata": {},
   "outputs": [],
   "source": []
  },
  {
   "cell_type": "code",
   "execution_count": null,
   "metadata": {},
   "outputs": [],
   "source": []
  }
 ],
 "metadata": {
  "kernelspec": {
   "display_name": "Python 3",
   "language": "python",
   "name": "python3"
  },
  "language_info": {
   "codemirror_mode": {
    "name": "ipython",
    "version": 3
   },
   "file_extension": ".py",
   "mimetype": "text/x-python",
   "name": "python",
   "nbconvert_exporter": "python",
   "pygments_lexer": "ipython3",
   "version": "3.11.9"
  }
 },
 "nbformat": 4,
 "nbformat_minor": 2
}
