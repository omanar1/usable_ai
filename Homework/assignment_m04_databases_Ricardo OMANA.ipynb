{
 "cells": [
  {
   "cell_type": "markdown",
   "metadata": {},
   "source": [
    "# Homework 3 - Databases and SQL\n",
    "In this guide, we will be connecting to the sqlite database created from the lecture, fill it with values, then run a few queries. You will be using the data files from the previous homework.\n",
    "\n",
    "### Instructions\n",
    "1. Follow the instructions on how to setup your Python and Jupyter (or VSCode) environment and cloning or downloading our repository. Instructions can be found in the class notes.\n",
    "2. Fill the missing pieces of code in the provided notebook.\n",
    "3. Answer the questions in the notebook through code.\n",
    "4. Run the notebook and make sure everything works.\n",
    "\n",
    "\n",
    "### Dataset Overview\n",
    "We will use two datasets for this assignment. The first one is the same as used in HW1, which consists of four text files, each containing a story. Files are in the `Datasets` directory of this repository. The stories are:\n",
    "\n",
    "- `story-1.txt`: The Monkey and the Crocodile\n",
    "- `story-2.txt`: The Musical Donkey\n",
    "- `story-3.txt`: A Tale of Three Fish\n",
    "- `story-4.txt`: The Foolish Lion and the Clever Rabbit\n",
    "\n",
    "The second dataset covers information about soccer players in sqlite format. This file is located in the `Datasets` directory of this repository. The file is called `fifa_soccer_dataset.sqlite.gz`.\n",
    "\n",
    "**IMPORTANT** The database is compressed and needs to be decompressed before use. You can do this by running the following command in your terminal on Linux or MacOS:\n",
    "\n",
    "```bash\n",
    "gunzip Datasets/fifa_soccer_dataset.sqlite.gz\n",
    "```\n",
    "\n",
    "If you are using Windows, you can use the following command in your powershell:\n",
    "\n",
    "```powershell\n",
    "$sourceFile = \"$PWD\\Datasets\\fifa_soccer_dataset.sqlite.gz\"\n",
    "$destinationFile = \"$PWD\\Datasets\\fifa_soccer_dataset.sqlite\"\n",
    "\n",
    "$inputStream = [System.IO.File]::OpenRead($sourceFile)\n",
    "$outputStream = [System.IO.File]::Create($destinationFile)\n",
    "$gzipStream = New-Object System.IO.Compression.GzipStream($inputStream, [System.IO.Compression.CompressionMode]::Decompress)\n",
    "$gzipStream.CopyTo($outputStream)\n",
    "\n",
    "$gzipStream.Close()\n",
    "$outputStream.Close()\n",
    "$inputStream.Close()\n",
    "```\n",
    "\n",
    "Alternatively, you can extract the file using the GUI of your operating system.\n",
    "\n",
    "\n",
    "### Submission Guidelines\n",
    "\n",
    "- Submit your completed notebook as a HTML export, or a PDF file.\n",
    "\n",
    "To export to HTML, if you are on Jupyter, select `File` > `Export Notebook As` > `HTML`.\n",
    "\n",
    "If you are on VSCode, you can use the `Jupyter: Export to HTML` command.\n",
    " - Open the command palette (Ctrl+Shift+P or Cmd+Shift+P on Mac).\n",
    "     - Search for `Jupyter: Export to HTML`.\n",
    "     - Save the HTML file to your computer and submit it via Canvas.\n",
    "\n",
    "---"
   ]
  },
  {
   "cell_type": "markdown",
   "metadata": {},
   "source": [
    "### Part 1 Story Analysis\n",
    "First, we need to import the correct library to use sqlite functions. Can you figure out which library are we going to use?"
   ]
  },
  {
   "cell_type": "code",
   "execution_count": 28,
   "metadata": {},
   "outputs": [],
   "source": [
    "import #Input needed Library here\n",
    "import os"
   ]
  },
  {
   "cell_type": "markdown",
   "metadata": {},
   "source": [
    "Now we have our functions ready to go, let's get the current path and connect to our database. For `dbPath` variable, create a db with name `mydb.sqlite`."
   ]
  },
  {
   "cell_type": "code",
   "execution_count": null,
   "metadata": {},
   "outputs": [],
   "source": [
    "data_path = 'Datasets' # Path to the datasets folder\n",
    "dbpath = # Select a path to save the database file\n",
    "conn = sqlite3.connect(dbpath) "
   ]
  },
  {
   "cell_type": "markdown",
   "metadata": {},
   "source": [
    "Now connected, we can create our cursor variable using the `cursor()` function."
   ]
  },
  {
   "cell_type": "code",
   "execution_count": 30,
   "metadata": {},
   "outputs": [],
   "source": [
    "cur = conn._()"
   ]
  },
  {
   "cell_type": "markdown",
   "metadata": {},
   "source": [
    "Using `cur`, we want to add in our new tables. However, if we add them multiple times, we will receive an error. So, we first need to `DROP` the tables if they exist already.<br>Enter your `DROP` queries below as an argument to the `execute` methods. Do this twice, once for the `stories` table and one for the `word_counts` table."
   ]
  },
  {
   "cell_type": "code",
   "execution_count": null,
   "metadata": {},
   "outputs": [],
   "source": [
    "drop_stories_query  = # Input DROP query for stories table here\n",
    "drop_info_query = # Input DROP query for information table here\n",
    "\n",
    "#Now we run both queries\n",
    "cur.execute(drop_stories_query)\n",
    "cur.execute(drop_info_query)"
   ]
  },
  {
   "cell_type": "markdown",
   "metadata": {},
   "source": [
    "We now have a clean slate set up to create our new tables! Now, design the queries to create new tables for `stories` and `word_counts`. <br>\n",
    "The `stories` table only needs a primary key `story_id` that is an integer and a text field called `story` to store the corrosoponding story text.\n",
    "<br>\n",
    "The `word_counts` table will need a little more. Please include the following:\n",
    "- `word_id`: primary key, integer\n",
    "- `word`: text\n",
    "- `count`: integer\n",
    "- `story_id`: integer, foreign key to `stories` table"
   ]
  },
  {
   "cell_type": "code",
   "execution_count": 40,
   "metadata": {},
   "outputs": [],
   "source": [
    "create_stories_query = # Insert CREATE TABLE query for stories table here\n",
    "create_info_query =  # Insert CREATE TABLE query for information table here\n",
    "cur.execute(create_stories_query)\n",
    "cur.execute(create_info_query)\n",
    "conn.commit()"
   ]
  },
  {
   "cell_type": "markdown",
   "metadata": {},
   "source": [
    "With our new empty tables ready, we can now loop through the stories and store the word counts.<br> Similar to how we looped through the stories in HW 1, we now have an additional step of inserting this data.<br>\n",
    "In the cell below, please add the two queries for inserting these data rows. <br><br>\n",
    "The first insert is for storing the story text in the `stories` table while reading from the file. The second insert is after counting up all the words, and is for inserting those values into the `word_counts` table. Remember to pass these query string variables into the `execute()` methods."
   ]
  },
  {
   "cell_type": "code",
   "execution_count": null,
   "metadata": {},
   "outputs": [],
   "source": [
    "stories = [\"/story-1.txt\", \"/story-2.txt\",\"/story-3.txt\",\"/story-4.txt\"]\n",
    "\n",
    "for story in stories:\n",
    "    words = []\n",
    "    count_of_each_word = {}\n",
    "    story_id = \"\"\n",
    "    try:\n",
    "        # Open the file\n",
    "        story_path = os.path.join(data_path, story)\n",
    "        with open(story_path,\"r\", encoding='utf-8') as fp:\n",
    "            # reading data from file and splitting into words\n",
    "            # and storing them in a list\n",
    "            story_text = fp.read()\n",
    "            \n",
    "            # For the below query, you will need to use a '?' to\n",
    "            #     represent where you want the story_text to be inputed.\n",
    "            #     The actual text in story_text is passed in a tuple as \n",
    "            #     second parameter of the execute command().\n",
    "            \n",
    "            insert_story_query = # Input INSERT query for the stories table here\n",
    "            cur.execute(insert_story_query, (story_text,))\n",
    "            \n",
    "            #Grabbing the last id inserted, so we can use it when inserting values into the word_counts table\n",
    "            story_id = cur.lastrowid\n",
    "            conn.commit()\n",
    "            words = story_text.split()\n",
    "            \n",
    "            # Close the file\n",
    "            fp.close()\n",
    "            \n",
    "    except Exception as e:\n",
    "        print(\"Unable to open the file: \" + str(e))\n",
    "\n",
    "    # Just like before, we are iterating over each word and using a dictonary to store the word counts\n",
    "    for word in words:\n",
    "        if(word in count_of_each_word):\n",
    "            count_of_each_word[word] += 1\n",
    "        else:\n",
    "            count_of_each_word[word] = 1\n",
    "\n",
    "    for key in count_of_each_word:\n",
    "        insert_count_query = # Input query here, using '?' again in the VALUES () portion\n",
    "        \n",
    "        cur.execute(insert_count_query, (key, count_of_each_word[key], story_id))\n",
    "        conn.commit()\n"
   ]
  },
  {
   "cell_type": "markdown",
   "metadata": {},
   "source": [
    "Finally! Our tables are filled and we can now run SELECT queries against it to pull the data we want. There are two queries you will need to run. \n",
    "### SELECT Query One: \n",
    "Grab all rows from `word_counts` where the word is \"the\" and the count is greater than 1."
   ]
  },
  {
   "cell_type": "code",
   "execution_count": null,
   "metadata": {},
   "outputs": [],
   "source": [
    "query_one = #Input SELECT query one here\n",
    "cur.execute(query_one)\n",
    "records = cur.fetchall()\n",
    "for record in records:\n",
    "    print(record)\n",
    "    \n"
   ]
  },
  {
   "cell_type": "markdown",
   "metadata": {},
   "source": [
    "### SELECT Query Two: \n",
    "Grab the `story_id`, `story`, and `count` columns where the word is \"the\". You should use a JOIN statement for this query, and only need to include `story_id` from one table."
   ]
  },
  {
   "cell_type": "code",
   "execution_count": null,
   "metadata": {},
   "outputs": [],
   "source": [
    "query_two = #Input SELECT query two here\n",
    "cur.execute(query_two)\n",
    "records = cur.fetchall()\n",
    "for record in records:\n",
    "    print(record)"
   ]
  },
  {
   "cell_type": "markdown",
   "metadata": {},
   "source": [
    "### Part 2 - Soccer Database\n",
    "Now that we have our first database filled with data, we can move on to the second one. We will be using the `fifa_soccer_dataset.sqlite` file.\n",
    "Feel free to use either sqlite3 or pandas to run your queries!\n",
    "If you plan to use pandas, check the `pandas` documentation for how to read in a sqlite database. In particular you can load a sqlite database into a pandas dataframe using the `read_sql_query` function.\n"
   ]
  },
  {
   "cell_type": "code",
   "execution_count": null,
   "metadata": {},
   "outputs": [],
   "source": [
    "dataset_path = \"../../Datasets/fifa_soccer_dataset.sqlite\" # Fix your path accordingly\n",
    "\n",
    "import sqlite3\n",
    "conn = sqlite3.connect(dataset_path)\n"
   ]
  },
  {
   "cell_type": "markdown",
   "metadata": {},
   "source": [
    "If you are using pandas, import it and read in the database. For instance:"
   ]
  },
  {
   "cell_type": "code",
   "execution_count": null,
   "metadata": {},
   "outputs": [],
   "source": [
    "import pandas as pd\n",
    "# get all tables\n",
    "df_tables = pd.read_sql_query(\"SELECT name FROM sqlite_master WHERE type='table';\", conn)\n",
    "display(df_tables)\n",
    "# get all players from Players table\n",
    "df_players = pd.read_sql_query(\"SELECT * FROM Player\", conn)\n",
    "display(df_players)\n"
   ]
  },
  {
   "cell_type": "markdown",
   "metadata": {},
   "source": [
    "If you prefer to use just sqlite3, you can do that as well. Just make sure to import the library and connect to the database:"
   ]
  },
  {
   "cell_type": "code",
   "execution_count": null,
   "metadata": {},
   "outputs": [],
   "source": [
    "conn = sqlite3.connect(dataset_path)\n",
    "cur = conn.cursor()\n",
    "# get all tables\n",
    "cur.execute(\"SELECT name FROM sqlite_master WHERE type='table';\")\n",
    "tables = cur.fetchall()\n",
    "for table in tables:\n",
    "    print(table)\n",
    "# get all players from Players table\n",
    "cur.execute(\"SELECT * FROM Player\")\n",
    "players = cur.fetchall()\n",
    "for player in players:\n",
    "    print(player)"
   ]
  },
  {
   "cell_type": "markdown",
   "metadata": {},
   "source": [
    "**QUESTION 1**\n",
    "\n",
    "Print the birthday of the player whose name is “Aaron Kuhl”. *Hint: Use ‘Player’ table*"
   ]
  },
  {
   "cell_type": "code",
   "execution_count": null,
   "metadata": {},
   "outputs": [],
   "source": [
    "# YOUR CODE HERE"
   ]
  },
  {
   "cell_type": "markdown",
   "metadata": {},
   "source": [
    "**QUESTION 2**\n",
    "\n",
    "Print the number of times the team_fifa_api_id ‘673’ appeared in Team_attribute table. *Hint: Apply GROUP BY clause on team_fifa_api_id attribute*\n"
   ]
  },
  {
   "cell_type": "code",
   "execution_count": null,
   "metadata": {},
   "outputs": [],
   "source": [
    "# YOUR CODE HERE"
   ]
  },
  {
   "cell_type": "markdown",
   "metadata": {},
   "source": [
    "**QUESTION 3**\n",
    "\n",
    "Print country name and league name that have matches on “2014-04-20 00:00:00”. *Hint: Apply join on Match Table and Country table, then Match Table and League Table*\n"
   ]
  },
  {
   "cell_type": "code",
   "execution_count": null,
   "metadata": {},
   "outputs": [],
   "source": [
    "# YOUR CODE HERE"
   ]
  }
 ],
 "metadata": {
  "kernelspec": {
   "display_name": "usableai",
   "language": "python",
   "name": "python3"
  },
  "language_info": {
   "codemirror_mode": {
    "name": "ipython",
    "version": 3
   },
   "file_extension": ".py",
   "mimetype": "text/x-python",
   "name": "python",
   "nbconvert_exporter": "python",
   "pygments_lexer": "ipython3",
   "version": "3.11.11"
  }
 },
 "nbformat": 4,
 "nbformat_minor": 4
}
