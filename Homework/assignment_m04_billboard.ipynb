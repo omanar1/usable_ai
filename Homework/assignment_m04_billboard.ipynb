{
 "cells": [
  {
   "cell_type": "markdown",
   "metadata": {},
   "source": [
    "# Homework 4 - Tidy and Process the Billboard Dataset\n",
    "The Billboard dataset comes with **76 columns** corresponding to the chart position of each song from `x1st.week` through `x76th.week`. This is a classic example of **wide** data that needs to be **melted** (unpivoted) into a long (tidy) format.\n",
    "\n",
    "### Instructions\n",
    "1. Follow the instructions on how to setup your Python and Jupyter (or VSCode) environment and cloning or downloading our repository. Instructions can be found in the class notes.\n",
    "2. Fill the missing pieces of code in the provided notebook.\n",
    "3. Run the notebook and make sure everything works.\n",
    "\n",
    "\n",
    "### Dataset Overview\n",
    "The dataset consists of songs and their weekly chart positions on the Billboard Hot 100. The dataset contains the following columns:\n",
    "- `year`: The year the song entered the chart.\n",
    "- `artist`: The artist of the song.\n",
    "- `track`: The title of the song.\n",
    "- `time`: The duration of the song.\n",
    "- `date.entered`: The date the song entered the chart.\n",
    "- `x1st.week` to `x76th.week`: The chart position of the song for each week.\n",
    "\n",
    "### Goals\n",
    "\n",
    "1. **Load** the Billboard dataset from CSV.\n",
    "2. **Tidy** the data so each row represents one song in one week.\n",
    "3. **Calculate** the actual date for each week using `date.entered + week * 7 days`.\n",
    "4. **Split** the data into two tables:\n",
    "   - A **songs** table with static song information.\n",
    "   - A **positions** table with `(song_id, week, rank, date)`.\n",
    "5. **Save** the tidy data to **Feather** format in the same directory with `_tidy` suffix.\n",
    "\n",
    "### Submission Guidelines\n",
    "\n",
    "- Submit your completed notebook as a HTML export, or a PDF file.\n",
    "\n",
    "To export to HTML, if you are on Jupyter, select `File` > `Export Notebook As` > `HTML`.\n",
    "\n",
    "If you are on VSCode, you can use the `Jupyter: Export to HTML` command.\n",
    " - Open the command palette (Ctrl+Shift+P or Cmd+Shift+P on Mac).\n",
    "     - Search for `Jupyter: Export to HTML`.\n",
    "     - Save the HTML file to your computer and submit it via Canvas.\n",
    "\n",
    "---"
   ]
  },
  {
   "cell_type": "code",
   "execution_count": null,
   "metadata": {},
   "outputs": [],
   "source": [
    "import pandas as pd\n",
    "\n",
    "# 1. Load the Billboard dataset\n",
    "df_bill = pd.read_csv(\"../../Datasets/billboard.csv\")\n",
    "\n",
    "# Let's check a few columns to see the structure.\n",
    "df_bill.head()"
   ]
  },
  {
   "cell_type": "markdown",
   "metadata": {},
   "source": [
    " The dataset has columns like:\n",
    "\n",
    " - **year**, **artist.inverted**, **track**, **time**, **genre** … (song info)\n",
    "\n",
    " - **date.entered**, **date.peaked** … (chart-related dates)\n",
    "\n",
    " - **x1st.week** through **x76th.week** … (chart positions over 76 weeks)\n",
    "\n",
    "\n",
    "\n",
    " We want to **melt** these weekly columns into a single `week` and `rank` column."
   ]
  },
  {
   "cell_type": "code",
   "execution_count": null,
   "metadata": {},
   "outputs": [],
   "source": [
    "# Your code here"
   ]
  },
  {
   "cell_type": "markdown",
   "metadata": {},
   "source": [
    " Notice how each row is now **one song** in **one week**. However, the `week` column currently contains strings like `\"x1st.week\"`, `\"x2nd.week\"`, etc. Let's clean those up and create a numeric week column."
   ]
  },
  {
   "cell_type": "code",
   "execution_count": null,
   "metadata": {},
   "outputs": [],
   "source": [
    "# Your code here"
   ]
  },
  {
   "cell_type": "markdown",
   "metadata": {},
   "source": [
    " Now, `week = 1, 2, 3, ... 76`. Next, we want to calculate the **exact date** on the chart for each row by adding `week * 7` days to `date.entered`. Create a column named \"date\" to hold the result. See the expected result in our lecture materials for tidy data."
   ]
  },
  {
   "cell_type": "code",
   "execution_count": null,
   "metadata": {},
   "outputs": [],
   "source": [
    "# Note that after doing that, you should have a new column called date\n",
    "# Your code here\n"
   ]
  },
  {
   "cell_type": "markdown",
   "metadata": {},
   "source": [
    " ### Split into Two Tables\n",
    "\n",
    "\n",
    "\n",
    " **Why split?** We often separate the **static** song info (e.g., artist, track, time, genre) from the **weekly** chart performance (week, rank, date).\n",
    "\n",
    "\n",
    "\n",
    " - **Songs Table**: Contains unique identifiers for each song plus basic metadata.\n",
    "\n",
    " - **Positions Table**: Contains `(song_id, week, rank, date)`, referencing the **song_id** from the songs table."
   ]
  },
  {
   "cell_type": "code",
   "execution_count": null,
   "metadata": {},
   "outputs": [],
   "source": [
    "# Your code here"
   ]
  },
  {
   "cell_type": "markdown",
   "metadata": {},
   "source": [
    " Next, we merge this `song_id` back into our `df_tidy` so we can create the positions table."
   ]
  },
  {
   "cell_type": "code",
   "execution_count": null,
   "metadata": {},
   "outputs": [],
   "source": [
    "# Your code here\n"
   ]
  },
  {
   "cell_type": "markdown",
   "metadata": {},
   "source": [
    " ### Create the Positions Table\n",
    "\n",
    "\n",
    "\n",
    " We only keep the **relevant columns** for weekly positions: `song_id`, `week`, `rank`, and `date`."
   ]
  },
  {
   "cell_type": "code",
   "execution_count": null,
   "metadata": {},
   "outputs": [],
   "source": [
    "# Your code here\n"
   ]
  },
  {
   "cell_type": "markdown",
   "metadata": {},
   "source": [
    "## 8.Playing with the data\n",
    " Now that we have our data in a tidy format, let's do some analysis.\n",
    "\n",
    "### Only songs that reached top 10\n",
    "We can use `query()` to filter the data for songs that reached the top 10 at least once. We will merge this back to the songs table to get the song details.\n",
    "\n",
    "Get a dataframe with the top 10 songs and their details."
   ]
  },
  {
   "cell_type": "code",
   "execution_count": null,
   "metadata": {},
   "outputs": [],
   "source": [
    "# Your code here\n"
   ]
  },
  {
   "cell_type": "markdown",
   "metadata": {},
   "source": [
    "You may want to remove duplicates to get a list of unique songs that reached the top 10. See `df.drop_duplicates()` for more details."
   ]
  },
  {
   "cell_type": "code",
   "execution_count": null,
   "metadata": {},
   "outputs": [],
   "source": [
    "# Your code here\n"
   ]
  },
  {
   "cell_type": "markdown",
   "metadata": {},
   "source": [
    "### How long did each song stay in the top 10?\n",
    "Create add to the current dataframe or create a new dataframe with the following columns:\n",
    "- `song_id` : the song id\n",
    "- `weeks_in_top_10` : the number of weeks the song was in the top 10"
   ]
  },
  {
   "cell_type": "code",
   "execution_count": null,
   "metadata": {},
   "outputs": [],
   "source": [
    "# Your code here\n"
   ]
  },
  {
   "cell_type": "markdown",
   "metadata": {},
   "source": [
    "### In which week did each song reach the top 10?\n",
    "Create or add to a new dataframe with the following columns:\n",
    "- `week_reached_top_10` : the week in which the song reached the top 10 for the first time"
   ]
  },
  {
   "cell_type": "code",
   "execution_count": null,
   "metadata": {},
   "outputs": [],
   "source": [
    "# Your code here\n"
   ]
  },
  {
   "cell_type": "markdown",
   "metadata": {},
   "source": [
    " ### 9. Save Tidy Data to Feather\n",
    "\n",
    "\n",
    "\n",
    " We want to save:\n",
    "\n",
    " - The **tidy** DataFrame (`df_tidy`) to a single file with the suffix `_tidy`.\n",
    "\n",
    " - (Optionally) Also save **songs** and **positions** as separate Feather files if needed."
   ]
  },
  {
   "cell_type": "code",
   "execution_count": null,
   "metadata": {},
   "outputs": [],
   "source": [
    "# Your code here\n"
   ]
  }
 ],
 "metadata": {
  "language_info": {
   "name": "python"
  }
 },
 "nbformat": 4,
 "nbformat_minor": 2
}
